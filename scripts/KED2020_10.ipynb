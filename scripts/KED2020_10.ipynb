{
 "cells": [
  {
   "cell_type": "markdown",
   "metadata": {
    "slideshow": {
     "slide_type": "slide"
    }
   },
   "source": [
    "<section id=\"title-slide\">\n",
    "  <h1 class=\"title\">The ABC of computational Text Analysis</h1>\n",
    "  <p class=\"subtitle\">10: NLP with Python</p>\n",
    "  <p class=\"author\">Alex Flückiger</p>\n",
    "  <p class=\"date\">7 May 2020</p>\n",
    "</section>"
   ]
  },
  {
   "cell_type": "code",
   "execution_count": 1,
   "metadata": {
    "slideshow": {
     "slide_type": "skip"
    }
   },
   "outputs": [
    {
     "data": {
      "text/html": [
       "<style>\n",
       "div.prompt {display:none}\n",
       "</style>\n"
      ],
      "text/plain": [
       "<IPython.core.display.HTML object>"
      ]
     },
     "metadata": {},
     "output_type": "display_data"
    }
   ],
   "source": [
    "%%HTML\n",
    "<style>\n",
    "div.prompt {display:none}\n",
    "</style>"
   ]
  },
  {
   "cell_type": "markdown",
   "metadata": {
    "slideshow": {
     "slide_type": "slide"
    }
   },
   "source": [
    "# Do NLP"
   ]
  },
  {
   "cell_type": "markdown",
   "metadata": {
    "slideshow": {
     "slide_type": "slide"
    }
   },
   "source": [
    "## Modules\n",
    "\n",
    "#### Standing of the Shoulders of Giants\n",
    "- [spaCy](https://spacy.io/usage/spacy-101): do Natural Language Processing (NLP)\n",
    "- [textaCy](https://chartbeat-labs.github.io/textacy/build/html/index.html): do more NLP, extends spaCy\n",
    "- [scattertext](https://github.com/JasonKessler/scattertext): visualize differences across corpora\n",
    "- [pandas](https://pandas.pydata.org/docs/getting_started/intro_tutorials/index.html): analyze tabular data \n",
    "- [plotnine](https://plotnine.readthedocs.io/en/stable/): visualize anything (ggplot for Python)"
   ]
  },
  {
   "cell_type": "markdown",
   "metadata": {
    "slideshow": {
     "slide_type": "subslide"
    }
   },
   "source": [
    "# Importing Modules\n",
    "\n",
    "various ways of importing"
   ]
  },
  {
   "cell_type": "code",
   "execution_count": 2,
   "metadata": {
    "slideshow": {
     "slide_type": "-"
    }
   },
   "outputs": [],
   "source": [
    "# standard import\n",
    "import textacy\n",
    "import spacy\n",
    "\n",
    "# import with shortname\n",
    "import scattertext as st \n",
    "import pandas as pd\n",
    "\n",
    "# import all specific/all objects from a module\n",
    "from pathlib import Path\n",
    "from plotnine import *\n",
    "import textacy.vsm"
   ]
  },
  {
   "cell_type": "markdown",
   "metadata": {
    "slideshow": {
     "slide_type": "slide"
    }
   },
   "source": [
    "# Basic NLP"
   ]
  },
  {
   "cell_type": "code",
   "execution_count": 3,
   "metadata": {
    "slideshow": {
     "slide_type": "-"
    }
   },
   "outputs": [
    {
     "name": "stdout",
     "output_type": "stream",
     "text": [
      "Apple Apple PROPN NNP nsubj Xxxxx True False\n",
      "is be AUX VBZ aux xx True True\n",
      "looking look VERB VBG ROOT xxxx True False\n",
      "at at ADP IN prep xx True True\n",
      "buying buy VERB VBG pcomp xxxx True False\n",
      "U.K. U.K. PROPN NNP compound X.X. False False\n",
      "startup startup NOUN NN dobj xxxx True False\n",
      "for for ADP IN prep xxx True True\n",
      "$ $ SYM $ quantmod $ False False\n",
      "1 1 NUM CD compound d False False\n",
      "billion billion NUM CD pobj xxxx True False\n"
     ]
    }
   ],
   "source": [
    "# define text directly (to read a file see below)\n",
    "text = \"Apple is looking at buying U.K. startup for $1 billion\"\n",
    "\n",
    "# load a language specific model\n",
    "en = textacy.load_spacy_lang(\"en_core_web_sm\")\n",
    "\n",
    "# analyze document (tokenizing, tagging, parsing)\n",
    "doc = textacy.make_spacy_doc(text, lang=en)\n",
    "\n",
    "# iterate over tokens per document\n",
    "for token in doc:\n",
    "    print(token.text, token.lemma_, token.pos_, token.tag_,\n",
    "            token.dep_, token.shape_, token.is_alpha, token.is_stop)"
   ]
  },
  {
   "cell_type": "code",
   "execution_count": 4,
   "metadata": {
    "slideshow": {
     "slide_type": "-"
    }
   },
   "outputs": [
    {
     "name": "stdout",
     "output_type": "stream",
     "text": [
      "Programm der Sozialdemokratischen Partei der\n",
      "Schweiz\n",
      "(Angenommen durch den Parteitag vom 10./12. Dezember 1920 in Bern.)\n",
      "\n",
      "Prinzipienerklärung.\n",
      "Das Endziel der Sozialdemokratie bildet eine Gesellschaftsordnung, die durch die\n",
      "Beseitigung jeder Art von Ausbeutung das Volk von Elend und Sorge befreit,\n",
      "Wohlstand und Unabhängigkeit sichert und damit die Grundlage schafft, auf der die\n",
      "Persönlichkeit sich frei und harmonisch entfalten und das ganze Volk zu höheren\n",
      "Kulturstufen aufsteigen kann.\n",
      "Das durch die wirtschaftliche Entwicklung selbst gegebene Mittel hierzu erblickt die\n",
      "Sozialdemokratie in der Überführung der Produktionsmittel aus dem Privatbesitz in\n",
      "den Besitz der Gesellschaft und in Ersetzung der kapitalistischen Wirtschaftsordnung\n",
      "durch eine Gemeinwirtschaft auf demokratischer Grundlage.\n",
      "Unter den heutigen Verhältnissen vollzieht sich die Tätigkeit der Sozialdemokratie in\n",
      "der Form des Klassenkampfes. Während aber die Klassenkämpfe des Bürgertums\n",
      "die Festigung und Erweiterung seiner Klassenvorrechte zum Ziele haben, ringt die\n",
      "Arbeiterschaft um die Beseitigung jeder Klassenherrschaft und jeder Ausbeutung.\n",
      "Deshalb besteht das letzte Ziel des proletarischen Klassenkampfes in der Wohlfahrt\n",
      "und der gesicherten Zukunft des ganzen Volkes.\n",
      "Diese Grundsätze stützen sich auf folgende\n",
      "\n",
      "Erwägungen:\n",
      "I. Die bürgerliche Gesellschaft.\n",
      "Die kapitalistische Produktion.\n",
      "Die Schweiz hat im letzten Jahrhundert tiefgreifende Wandlungen durchgemacht,\n",
      "durch welche die Grundlagen ihrer wirtschaftlichen und nationalen Existenz völlig\n",
      "revolutionäre worden sind.\n",
      "Die wirtschaftliche Entwicklung verwandelte die Schweiz aus einem bäuerlichkleinbürgerlichen Gemeinwesen in ein Industrieland, das seine Rohstoffe und einen\n",
      "grossen Teil der notwendigen Lebensmittel von auswärts beziehen und für seine\n",
      "Industrieprodukte im Ausland Absatz suchen muss, deshalb von allen\n",
      "Schwankungen und Erschütterungen des Weltmarktes mitbetroffen wird.\n",
      "Der Sieg der Maschine über das einfache Werkzeug und der Sieg des\n",
      "Grossbetriebes über Handwerk und Kleinbetriebe führte zu weitgehender\n",
      "Industrialisierung des ganzen Landes. Darauf beruht der unaufhaltsame Zerfall des\n",
      "alten Mittelstandes und das Anwachsen des industriellen Proletariats, das aus den\n",
      "Reihen der durch den Kapitalismus ruinierten Handwerker und Kleinbauern stets\n",
      "neuen Zuzug erhält. Die Trennung des Arbeiters von den Produktionsmitteln –\n",
      "Arbeitsstätten, Maschinen, Rohstoffen – und die Monopolisierung der letzteren in\n",
      "den Händen der Kapitalisten macht den Arbeiter zum Gegenstand der Ausbeutung,\n",
      "\n",
      "2\n",
      "indem sie es dem Unternehmer ermöglicht, sich fremde unbezahlte Arbeit\n",
      "anzueignen.\n",
      "Je mehr es aber gelingt, durch die Beherrschung der Naturkräfte, durch\n",
      "Verbesserung der Maschinen und der Arbeitsmethoden die Ergiebigkeit der\n",
      "menschlichen Arbeit zu steigern, desto grösser wird die Zahl der Besitzlosen, desto\n",
      "drückender ihre Abhängigkeit und die Unsicherheit ihrer Existenz, desto übler ihre\n",
      "Lage im Verhältnis zum gesellschaftlichen Reichtum. Die Vorteile des\n",
      "wirtschaftlichen Fortschrittes kommen vorwiegend den Besitzern der\n",
      "Produktionsmittel zugute. In den Händen weniger häufen sich Riesengewinne. Der\n",
      "Arbeiter aber, dessen Tätigkeit die Hauptquelle des gesellschaftlichen Reichtums\n",
      "bildet, hat den geringsten Anteil an seiner Steigerung.\n",
      "So befindet sich ein grosser Teil des Schweizervolkes in gedrücktester Lage und\n",
      "grösster Abhängigkeit. Während ehrliche Arbeit nicht mehr vor Not zu schützen\n",
      "vermag, häufen und vermehren sich die arbeitslosen Einkommen. Zehntausende,\n",
      "ruhelos umhergetrieben, haben keine Heimat mehr und keinen Herd Der Kampf ums\n",
      "Dasein wird mit steigender Erbitterung geführt. Aber trotz verzweifelten\n",
      "Widerstandes versinken unter dem Einfluss der Teuerung und der Wirtschaftspolitik\n",
      "des kapitalistischen Staates immer neue Schichten ins Proletariat, das damit zur\n",
      "weitaus zahlreichsten Volksklasse wird.\n",
      "In der Landwirtschaft ist die wirtschaftliche Überlegenheit des mit allen\n",
      "Errungenschaften der Technik arbeitenden Gross- und Mittelbetriebes über den\n",
      "Klein- und Zwergbetrieb nachgewiesen. Starke Bodenparzellierung und rückständige\n",
      "Betriebsweise, Mangel an Maschinen und ungenügende Verwendung elektrischer\n",
      "Kraft verunmöglichen trotz Überanstrengung der physischen Kräfte eine Prosperität.\n",
      "Der Übergang von der Naturalwirtschaft zur Geldwirtschaft, der Einfluss der\n",
      "ausländischen Konkurrenz, das blinde Vertrauen auf den Nutzen schutzzöllnerischer\n",
      "Mittel und die daraus entstandene Unfähigkeit, durch genossenschaftlichen\n",
      "Zusammenschluss und die Wahl der geeignetsten Betriebsweise dieser Konkurrenz\n",
      "zu begegnen, und die schweren Erschütterungen der Weltwirtschaft haben zu\n",
      "grossen Preisschwankungen und einer unsicheren Gestaltung der Bodenpreise und\n",
      "des Hypothekarkredites geführt und den wenig besitzenden Bauern der Krise und all\n",
      "ihren verderblichen Folgen ausgesetzt. So versinkt auch ein Teil des Bauernstandes,\n",
      "dessen Bevölkerungsüberschuss sich fortgesetzt den Städten zuwendet, im\n",
      "Industrieproletariat. Ein anderer Teil der Kleinbauern kann nur durch die Verbindung\n",
      "des landwirtschaftlichen Betriebes mit industrieller Lohnarbeit weiter existieren.\n",
      "Mit der kapitalistischen Wirtschaft untrennbar verbunden ist die Planlosigkeit und\n",
      "Anarchie der Produktion. Die besitzende Klasse hat die Herrschaft über die\n",
      "Produktionsmittel verloren, sie sind ihr über den Kopf gewachsen. Jeder einzelne\n",
      "Kapitalist steht unter dem von der Konkurrenz diktierten Zwangsgebot, stets auf die\n",
      "Verbilligung seines Produktes und die Erweiterung seines Absatzes bedacht zu sein\n",
      "und seinen Konkurrenten zu schlagen, um nicht von ihm geschlagen zu werden. Da\n",
      "aber diese fieberhafte wirtschaftliche Tätigkeit die Erzielung von Profit zum Zwecke\n",
      "hat, ohne Rücksicht auf den gesellschaftlichen Bedarf, so führt sie mit Notwendigkeit\n",
      "zur Überproduktion und zu periodischen Krisen, welche die ganze Wirtschaft\n",
      "erschüttern, am schwersten aber mit der furchtbaren Geissel der Arbeitslosigkeit die\n",
      "Arbeiterschaft schädigen.\n",
      "Wo das Unternehmertum versucht, diese Herrschaft über die Produktionsmittel durch\n",
      "Kartelle, Syndikate oder Truste zurückzugewinnen, führt sie einerseits zur\n",
      "preissteigernden Wirkung von Privatmonopolen, anderseits zu einer durch die\n",
      "riesigen Machtmittel gesteigerten Unterdrückung und Ausbeutung der Arbeiter.\n",
      "\n",
      "3\n",
      "\n",
      "Die bürgerliche Demokratie.\n",
      "Die wirtschaftliche Umwälzung, die das Aufkommen der kapitalistischen\n",
      "Produktionsweise bedeutete, führte auch zu neuen politischen Formen. Im Laufe oft\n",
      "blutiger Klassenkämpfe gegen Aristokratie und Zunftherrschaft schuf sich das\n",
      "Bürgertum den modernen bürgerlichen Staat, der in den meisten Ländern, in der\n",
      "Schweiz insbesondere, die formale Gleichberechtigung der Bürger vor dem Gesetz\n",
      "verwirklichte und parlamentarisch-demokratische Einrichtungen mit sich brachte Das\n",
      "Entwicklungsbedürfnis von Handel und Verkehr, das um die Mitte des 19.\n",
      "Jahrhunderts zur Bildung einer Reihe von Grosstaaten führte, schuf sich in der\n",
      "Schweiz im Sonderbundskrieg den Bundesstaat.\n",
      "Durch die demokratischen Einrichtungen wurde der Klassengegensatz zwischen\n",
      "Bourgeoisie und Proletariat keineswegs aufgehoben oder auch nur gemildert,\n",
      "vielmehr entfaltet und blossgelegt, wenn schon versucht wird, ihn durch Ableugnung\n",
      "des Klassencharakters dieser Einrichtungen zu verschleiern. Der bürgerliche Staat\n",
      "ist und bleibt auch in seiner demokratischen Form und trotz dieser ein\n",
      "Unterdrückungsapparat der Bourgeoisie gegenüber dem Proletariat. Die innere und\n",
      "auswärtige Politik des Staates dient den Klasseninteressen der Bourgeoisie, der\n",
      "Ausübung, Erweiterung und Verteidigung ihrer Herrschaft. Die Verwaltung befindet\n",
      "sich fast ausschliesslich in ihren Händen, das Heer wird zur Unterdrückung des\n",
      "Proletariats gebraucht.\n",
      "Die Beherrschung des Regierungsapparates, der Volksschule und aller höheren\n",
      "Bildungsanstalten, ferner fast der gesamten Presse, der Kirche und das Privilegium\n",
      "einer im allgemeinen besseren Bildung verleiht der Bourgeoisie neben den\n",
      "ökonomischen auch eine ungeheure geistige Übermacht, die dem Proletariat die\n",
      "Befreiung von bürgerlicher Tradition und Bevormundung in hohem Masse erschwert\n",
      "und ihm die volle Ausnutzung der bürgerlichen Freiheiten und Rechte nicht entfernt\n",
      "ermöglicht. Zudem zögert die Bourgeoisie keinen Augenblick, die Gesetze des\n",
      "bürgerlichen Staates- zu verletzen und die Freiheiten, derer sie selbst zur Entfaltung\n",
      "der kapitalistischen Produktionskräfte bedurfte, aufzuheben oder durch die\n",
      "skrupellose Anwendung der Regierungs- und Militärgewalt illusorisch zu machen,\n",
      "sobald sie ihre Klassenherrschaft bedroht glaubt.\n",
      "Die bürgerliche Demokratie, die wohl einzelne soziale Reformen, einzelne\n",
      "Verbesserungen der Lage der Arbeiterklasse durchführen kann, ist nicht gewillt und\n",
      "auch ausserstande, an den ökonomischen Grundlagen des Staates zu rütteln, das\n",
      "Lohnverhältnis und die Klassenherrschaft der Bourgeoisie zu beseitigen.\n",
      "\n",
      "Der Imperialismus.\n",
      "Die riesenhafte Entfaltung der kapitalistischen Produktivkräfte gegen das Ende des\n",
      "19 Jahrhunderts liess das Kapital über die nationalen Grenzen hinausschweifen und\n",
      "führte zum Konkurrenzkampf der Bourgeoisien der Grossmächte um Absatzgebiet\n",
      "und Kolonien, der seine höchste Steigerung im imperialistischen Weltkrieg fand. Die\n",
      "Zustände der bürgerlichen Gesellschaft haben dadurch eine ungeheure\n",
      "Verschärfung erfahren. Die sozialen Errungenschaften der Arbeiterklasse werden\n",
      "durch die hohen Warenpreise und die mit ihnen verbundenen Folgen bedroht und\n",
      "zum Teil vernichtet. Jede Verkürzung der Arbeitszeit, jede Lohnsteigerung wird vom\n",
      "kapitalistischen Unternehmer zu neuen Preisaufschlägen benutzt, trotzdem die\n",
      "fortschreitende Technik und die Rationalisierung der Produktion eine Erhöhung der\n",
      "Löhne und eine Verminderung der Arbeitszeit erlauben würde.\n",
      "\n",
      "4\n",
      "Diese unvermeidliche Wechselwirkung steigert die Schwierigkeiten des\n",
      "Lebensunterhaltes, häuft Entbehrung, Not und Elend des industriellen und\n",
      "gewerblichen Arbeiters wie des Angestellten und Beamten, des Kleinbauern wie des\n",
      "Angehörigen des Mittelstandes Sie führt in ihrem weitern Verlauf notwendig zur\n",
      "Lähmung und schliesslichen Stockung der Produktion. Weil aber die industrielle,\n",
      "gewerbliche und landwirtschaftliche Produktion sich nach der Kaufkraft der\n",
      "Konsumenten richtet, so hemmen diese Wirkungen die Erzeugung der für die\n",
      "Lebenshaltung der breiten Massen unerlässlichen Gebrauchsgüter.\n",
      "Am Rande des durch den Krieg beschleunigten finanziellen Zusammenbruchs\n",
      "erweist sich der bürgerliche Staat als unfähig die an ihn gestellten sozialen\n",
      "Forderungen zu befriedigen. Die Kosten seiner sozialen Reformen, durch die er den\n",
      "Zusammenbruch aufzuhalten strebt, fallen wieder auf die ausgebeuteten\n",
      "Volksschichten, sei es durch die unmittelbare Belastung mit Steuern und Abgaben,\n",
      "sei es durch die Überwälzung der den kapitalistischen Produzenten überbundenen\n",
      "Leistungen auf die Warenpreise. Eine planmässige Beschränkung bis zur endlichen\n",
      "Aufhebung des Kapitalprofits und des Ausbeutungsverhältnisses zwischen\n",
      "Bourgeois und Proletarier aber kann der kapitalistische Staat nicht durchführen, weil\n",
      "er sonst die Grundlagen des eigenen Daseins angreifen und aufheben müsste. So\n",
      "vermag der kapitalistische Staat dem Arbeiter weder ein ausreichendes\n",
      "Existenzminimum noch befriedigendes Obdach, weder sichere Arbeitsgelegenheit\n",
      "noch genügende Fürsorge auf die Tage der Krankheit, der Invalidität und des Alters\n",
      "zu verschaffen, geschweige denn, ihn aus der Lohnsklaverei zu befreien.\n",
      "Wie der heutige schweizerische Staat im Innern das Werkzeug der ihn\n",
      "beherrschenden kapitalistischen Klasse ist, so ist er in seinen auswärtigen\n",
      "Beziehungen Anhängsel und Werkzeug der imperialistischen Grossmächte. Wo das\n",
      "bürgerliche Klasseninteresse durch den der Arbeiterschaft aufgezwungenen\n",
      "revolutionären Kampf bedroht erscheint, liefert sich der kapitalistische Kleinstaat den\n",
      "Grossmächten freiwillig aus und verbündet sich mit der internationalen Bourgeoisie\n",
      "gegen die eigenen Angehörigen, deren Schutz sein angeblicher Zweck ist. Im\n",
      "übrigen aber bleiben seine Selbständigkeit, Unabhängigkeit und Neutralität nur so\n",
      "weit gewahrt, als sie mit den Interessen der Grossmächte vereinbar sind.\n",
      "Erschwerung der Handelsbeziehungen, ökonomischer Boykott und politische\n",
      "Repressalien sind die Mittel, um den Kleinstaat dem Willen seiner kapitalistischen\n",
      "Widersacher gefügiger zu machen. Diese Entwicklung tritt immer klarer zutage, je\n",
      "mehr der imperialistische Konkurrenzkampf der Bourgeoisie hinter dem Weltkampf\n",
      "zwischen Bourgeoisie und Proletariat zurücktritt.\n",
      "\n",
      "II. Der Weg zum Sozialismus.\n",
      "Der Kampf des Proletariats im bürgerlichen Staat.\n",
      "Die wirtschaftliche Notlage und Unterdrückung im kapitalistischen Staat und die\n",
      "Erkenntnis von der historischen Notwendigkeit seiner Beseitigung haben das\n",
      "Proletariat zur politischen und gewerkschaftlichen Organisation und zum steten\n",
      "politischen und gewerkschaftlichen Kampf gegen die Bourgeoisie geführt. Dieser\n",
      "Kampf erstrebt innerhalb des bürgerlichen Staates die Hebung der Lage des\n",
      "Proletariats und die Erhaltung und Erweiterung der bürgerlichen Rechte und\n",
      "Freiheiten, lässt aber nie das sozialistische Endziel aus den Augen, das nur durch\n",
      "die Aufhebung des bürgerlichen Staates verwirklicht werden kann. Die sozialistische\n",
      "Partei wird niemals um augenblicklicher Vorteile willen Wege beschreiten, die ihre\n",
      "\n",
      "5\n",
      "Aktionsfähigkeit im Klassenkampf lähmen und dadurch die Verwirklichung des\n",
      "Sozialismus verzögern und gefährden könnten.\n",
      "Der Kampf des Proletariats wird gemäss dem Charakter der Arbeiterbewegung als\n",
      "einer Massenbewegung unter Ablehnung von Einzelaktionen und Putschen durch\n",
      "das Mittel der Massenaktion, Demonstration und politischen Streike geführt. Die\n",
      "parlamentarische Tätigkeit, die Wahl- und Abstimmungskämpfe, die Benützung des\n",
      "Initiativrechtes und des Referendums sowie die politischen Streike stehen im Dienste\n",
      "der revolutionären sozialistischen Propaganda und Aktion. Nur Verkennung der\n",
      "Bedingungen und Voraussetzungen des proletarischen Klassenkampfes könnte\n",
      "diese Kampfmittel unterschätzen und missachten. Soziale Reformen beseitigen den\n",
      "Kapitalismus nicht. Aber insofern sie zum Ausgangspunkt proletarischer Kämpfe\n",
      "werden, neue Massen der politischen Erweckung zuführen und zur Teilnahme an\n",
      "diesen Kämpfen bewegen, sind sie ein unentbehrliches Mittel der politischen\n",
      "Aufklärung und Erziehung. Die politische Aufklärung über das Wesen der\n",
      "kapitalistischen Gesellschaft und die Notwendigkeit und Erreichbarkeit des\n",
      "sozialistischen Endzieles ist die vornehmste Aufgabe der politischen Arbeiterpartei.\n",
      "Der politische Kampf der Arbeiterklasse findet seine notwendige Ergänzung im\n",
      "gewerkschaftlichen Kampf. Die gewerkschaftliche Organisation will die Arbeiter\n",
      "befähigen, alle wirtschaftlichen Möglichkeiten innerhalb der kapitalistischen\n",
      "Produktion auszunutzen, sich gegen Bedrückung und Verelendung zu wehren, die\n",
      "Wirkungen der Krisen herabzumindern und mitbestimmend in die Regelung des\n",
      "Arbeitsvertrages und der Produktion einzugreifen.\n",
      "Durch die genossenschaftliche Organisation der Erzeugung und Verteilung von\n",
      "Produkten sucht die Arbeiterklasse Einfluss auf die Preisgestaltung der\n",
      "Bedarfsgegenstände zu gewinnen und den Handelszwischengewinn zu verkleinern.\n",
      "Die Genossenschaften werden im proletarischen Staat die Organe der gesamten\n",
      "Güterverteilung sein.\n",
      "Schon innerhalb der bürgerlichen Gesellschaft tritt das Proletariat für die\n",
      "Verstaatlichung und Kommunalisierung der hierzu geeigneten Produktionsmittel ein.\n",
      "Dieser Prozess bedeutet nicht eine Aufhebung der kapitalistischen Produktion,\n",
      "sondern vielmehr ihre höchste Konzentration, welche die künftige Übernahme der\n",
      "Produktionsmittel durch den proletarischen Staat erleichtert und insofern hilft, den\n",
      "Sozialismus vorzubereiten.\n",
      "Seine volle Bedeutung aber erhält der Kampf des Proletariats um die Staatsmacht\n",
      "erst durch das Zusammenwirken seiner politischen und ökonomischen\n",
      "Organisationen. In der einheitlichen Zusammenfassung und Erweiterung des\n",
      "Klassenkampfes, entwickelt und gesteigert durch Demonstrationen und\n",
      "Massenstreike wie durch die vereinigten Anstrengungen des revolutionären\n",
      "Weltproletariats, erlangt die Arbeiterklasse in wechselvollem, von Sieg und\n",
      "Niederlage begleitetem Ringen die Kraft zur Überwindung der kapitalistischen\n",
      "Herrschaft.\n",
      "\n",
      "Die Eroberung der politischen Macht.\n",
      "Durch das stete Anwachsen der kapitalistischen Produktivkräfte, das durch die\n",
      "Erzeugung von Überproduktion und Krisen, namentlich aber von ungeheuren\n",
      "imperialistischen Konflikten aus einem einstigen Mittel des gesellschaftlichen\n",
      "Fortschritts zu seiner schwersten Gefährdung geworden ist, wird der\n",
      "Zusammenbruch des Kapitalismus und Aufbau des Sozialismus zur historischen\n",
      "\n",
      "6\n",
      "Notwendigkeit.Die geschichtliche Erfahrung lehrt uns, dass auch die Eroberung der\n",
      "politischen Macht durch das Proletariat auf den erbitterten Widerstand der\n",
      "besitzenden Klasse stossen wird, die sich ihre Macht und ihr Vorrecht der\n",
      "kapitalistischen Ausbeutung nicht entreissen lassen will.\n",
      "Die Eroberung der politischen Macht ist das nächste Ziel der Arbeiterklasse. Sie wird\n",
      "voraussichtlich nicht auf den ersten Ansturm, sondern erst nach langen, schweren,\n",
      "wechselvollen Kämpfen verwirklicht werden, in deren Verlauf das Proletariat die Kraft\n",
      "und Reife zur Überwindung der kapitalistischen Herrschaft erwirbt. Dabei ist sich das\n",
      "Proletariat dessen bewusst, dass man mit Gewalt keine neue Gesellschaft aufbaut,\n",
      "dass die aufbauenden Kräfte in der Arbeit und ihrer Organisation entwickelt werden\n",
      "müssen, und dass deshalb Gewalt nur dazu dienen kann, der gewaltsam\n",
      "gehinderten ökonomischen Entwicklung freie Bahn zu schaffen und gewaltsame\n",
      "Angriffe auf eine neue Organisationsform der Gesellschaft abzuwehren.\n",
      "Das zur herrschenden Klasse erhobene Proletariat muss zunächst die Banken und\n",
      "die kapitalistischen Grossbetriebe in den Dienst der neuen sozialistischen\n",
      "Organisation stellen, die die anarchische Profitwirtschaft des Kapitalismus durch die\n",
      "nach einheitlichem Plane geleitete Produktion und Verteilung der für die Gesellschaft\n",
      "notwendigen Güter ersetzt. Auch die Betriebe, die vom Proletariat nicht sogleich\n",
      "übernommen, sondern erst allmählich in diese Organisation einbezogen werden\n",
      "können, die industriellen und landwirtschaftlichen Mittel- und Kleinbetriebe, müssen\n",
      "einem einheitlichen Wirtschaftsplan untergeordnet werden Mit dem Streben nach der\n",
      "grösstmöglichen Förderung der Gütererzeugung verbindet sich die Notwendigkeit\n",
      "der Aufhebung aller rückständigen Produktionsformen. Durch Aufhebung des\n",
      "Erbrechts und Wegnahme der grossen Vermögen wird das Proletariat die\n",
      "sozialistische Umwälzung beschleunigen, durch Einführung der allgemeinen\n",
      "Arbeitspflicht das wirtschaftliche und sittliche Fundament der neuen\n",
      "Gesellschaftsordnung legen. Es wird durch Aufhebung aller nationalen\n",
      "Unterdrückung die nationalen Gegensätze zum Verschwinden bringen und volle\n",
      "Solidarität mit dem revolutionären Proletariat aller übrigen Länder üben.\n",
      "\n",
      "Die Diktatur des Proletariats.\n",
      "Zur Durchführung all dieser Ziele und um den Widerstand der ihrer Macht verlustig\n",
      "gegangenen Klasse der Kapitalisten zu brechen, wird die politische Macht der\n",
      "Arbeiterklasse in Form der proletarischen Diktatur ausgeübt. Die Diktatur, das heisst\n",
      "die Anwendung aller staatlichen Gewaltmittel durch das zur herrschenden Klasse\n",
      "gewordene Proletariat, um die Widerstände niederzuzwingen, die die Bourgeoisie\n",
      "der Verwirklichung des Sozialismus entgegensetzt, ist eine Übergangsphase im\n",
      "Entwicklungsgange vom kapitalistischen Klassenstaat zum sozialistischen\n",
      "Gemeinwesen. Es hängt von den gegebenen ökonomischen, sozialen und\n",
      "politischen Verhältnissen des einzelnen Landes ab, welche Formen die Diktatur\n",
      "annehmen wird. Sollte das Proletariat mit den Mitteln der Demokratie die Macht\n",
      "erobern, so wäre im Falle des Widerstandes der Bourgeoisie auch die demokratische\n",
      "Staatsgewalt zur Anwendung der Diktatur gezwungen. Wird jedoch in der Periode\n",
      "der entscheidenden Machtkämpfe die Demokratie durch die Schärfe der\n",
      "Klassengegensätze gesprengt, so muss die Diktatur die Form einer Diktatur\n",
      "proletarischer Klassenorganisationen annehmen.\n",
      "Im Gegensatz zur Klassenherrschaft der Bourgeoisie erstrebt die Diktatur des\n",
      "Proletariats nicht die Aufrechterhaltung der Klassen, sondern ihre Beseitigung. Sie\n",
      "wirkt nicht im Interesse einer Minderheit, sondern im Interesse aller Arbeitenden,\n",
      "\n",
      "7\n",
      "also der grossen Mehrheit des Volkes. Die Diktatur ist also kein Versuch, durch das\n",
      "Mittel einer Parteidespotie die Interessen einer Minorität zum Siege zu führen. Das\n",
      "klassenbewusste Proletariat kann die Aufhebung des Kapitalismus durch den\n",
      "sozialistischen Aufbau nur zu Ende führen in Übereinstimmung und mit der\n",
      "beständigen aktiven Unterstützung dieser Mehrheit des arbeitenden Volkes, als\n",
      "dessen Werk der Sozialismus entstehen muss. So ist die Diktatur des Proletariats\n",
      "nur das revolutionäre Mittel zur Erringung der wahren, der sozialistischen\n",
      "Demokratie.\n",
      "Das Proletariat, das Menschenmord hasst und verabscheut und Krieg und\n",
      "Verbrechen aus der Welt schaffen will, wird stets nur gezwungen zu den Mitteln\n",
      "politischer und militärischer Gewalt greifen und zu dem ausschliesslichen Zwecke,\n",
      "die Errungenschaften der sozialen Revolution gegen die Angriffe der ehemals\n",
      "herrschenden Klassen und ihrer Söldlinge zu verteidigen.\n",
      "Die organisatorische Grundlage der Diktatur wird das Rätesystem sein, dessen\n",
      "jeweilige Form durch die gegebenen ökonomischen Verhältnisse bedingt wird. Durch\n",
      "sein engstes Verwachsensein mit dem Produktionsprozess, seine stete Fähigkeit der\n",
      "Erneuerung erweist sich das Rätesystem als die wirksamste Organisation des\n",
      "Proletariats im Kampfe um die politische Macht für die Kontrolle und Leitung des\n",
      "Produktionsprozesses wie auch zur politischen Schulung und wirklichen\n",
      "Selbstverwaltung des arbeitenden Volkes. Diese Selbstverwaltung kann sich\n",
      "keineswegs nur auf die manuellen Arbeiter gründen. Um ihre Aufgabe erfüllen zu\n",
      "können, muss sie die Zusammenarbeit der körperlich und geistig Schaffenden aller\n",
      "eine gesellschaftlich nützliche Arbeit leistenden Menschen verwirklichen.\n",
      "Mit der Übernahme der Staatsmacht durch das Proletariat ändern sich Wesen und\n",
      "Sein des Staates. Die Aufhebung der Ausbeutung und damit der Klassen lassen die\n",
      "politischen Funktionen immer mehr in blosse Verwaltungsfunktionen, die\n",
      "Beherrschung von Personen in eine Verwaltung von Sachen übergehen. Durch den\n",
      "allmählichen Einbezug aller Volksgenossen in die arbeitende Klasse hört das\n",
      "Proletariat als herrschende Klasse zu existieren auf. Der Staat als\n",
      "Unterdrückungsorganisation stirbt ab und weicht der Gemeinschaft aller freien\n",
      "arbeitenden Menschen.\n",
      "\n",
      "III. Die sozialistische Gesellschaft.\n",
      "Die sozialistische Gesellschaft, in der die Produktionsmittel aufgehört haben, Kapital,\n",
      "das heisst Mittel zur Ausbeutung und Beherrschung der besitzlosen Klasse zu sein,\n",
      "wird die Fähigkeit besitzen, alle Produktionsmittel voll auszunutzen, alle Arbeitskräfte\n",
      "nützlich und am richtigen Ort anzuwenden, die Produktion dem Bedarf anzupassen\n",
      "und alle Bedürfnisse des einzelnen wie der Gesellschaft in reichlichem Masse zu\n",
      "befriedigen.\n",
      "Durch die immer rationellere Gestaltung der Produktion und Verteilung, vermöge der\n",
      "Fortschritte der Wissenschaft und Technik, und die Beseitigung aller Vergeudung\n",
      "schöpferischer Kräfte wird die Menschheit imstande sein, bei voller Befriedigung\n",
      "ihrer Bedürfnisse die gesellschaftlich notwendige Arbeitszeit so weit herabzusetzen,\n",
      "dass dem einzelnen die Möglichkeit der vollen Entfaltung seiner Anlagen und des\n",
      "vollen Genusses aller Kulturgüter zuteil wird.\n",
      "Grundlage und Voraussetzung der Persönlichkeit und Gesittung ist das\n",
      "Privateigentum an den Gütern des persönlichen Bedarfs, an dem, was zur\n",
      "Ernährung, zur Kleidung, zur Einrichtung und zum Schmuck der Wohnung, zu\n",
      "künstlerischem Geniessen, zur körperlichen und geistigen Ausbildung und geselligen\n",
      "\n",
      "8\n",
      "Erholung notwendig ist. Während durch den Kapitalismus der grösste Teil des\n",
      "Volkes von diesen Bedarfsmitteln entblösst und zu einem ruhelosen, einförmigen\n",
      "Dasein in der Tretmühle des täglichen Erwerbes verurteilt war, stellt der Sozialismus\n",
      "durch Aufhebung des auf Ausbeutung beruhenden Privateigentums an den\n",
      "Produktionsmitteln das individuelle Eigentum an den Gütern des Bedarfs wieder her\n",
      "und gibt jedem einzelnen, was er zur Befriedigung seiner leiblichen, gemütlichen und\n",
      "geistigen Bedürfnisse benötigt.\n",
      "Die sozialistische Gesellschaft, in der alle Herrschaftsverhältnisse und Vorrechte\n",
      "beseitigt sind, bringt auch der Frau die volle gesellschaftliche Gleichberechtigung mit\n",
      "dem Manne und die Möglichkeit naturgemässer Entwicklung und ungehinderter\n",
      "Betätigung ihrer Kräfte und Fähigkeiten. Die Ehe, in der bürgerlichen\n",
      "Gesellschaftsordnung meist eine Versorgungsanstalt und sehr häufig bloss eine\n",
      "gesetzlich geschützte Form der Prostitution, wird ihres ökonomischen Charakters\n",
      "entkleidet und in der persönlichen Zuneigung ihre sittliche Grundlage finden.\n",
      "Durch die Befriedigung der Bedürfnisse aller Arbeitenden und die Fürsorge der\n",
      "Gesellschaft für alle Arbeitsunfähigen werden Armut und Not, Verbrechen und\n",
      "Prostitution, die in den Zuständen des Kapitalismus ihren Nährboden fanden, als\n",
      "gesellschaftliche Erscheinung verschwinden.\n",
      "Die sozialistische Gesellschaft wird die Mittel besitzen, um die grossen Probleme der\n",
      "Erziehung zu lösen. Indem sie aber Empfänglichkeit für alles Schöne, Wahre, Gute\n",
      "in allen Menschen fördert, gibt sie gleichzeitig aller künstlerischen und\n",
      "wissenschaftlichen Tätigkeit neue, heute ungeahnte Antriebe und Wirkungskreise.\n",
      "Die Soziademokratische Partei tritt also aus dem Rahmen einer politischen Partei\n",
      "weit hinaus. Sie ist die Fahnenträgerin eines grossen Kulturkampfes der arbeitenden\n",
      "Klasse für die Erringung der vollen Menschenrechte, für die Erlösung der Menschen\n",
      "von den Geisseln der Armut und des Krieges, für die Sicherung der kulturellen\n",
      "Errungenschaften und für den kulturellen Fortschritt der ganzen Menschheit.\n",
      "\n",
      "9\n",
      "\n",
      "ARBEITSPROGRAMM\n",
      "der Sozialdemokratischen Partei der Schweiz\n",
      "(Angenommen durch den Parteitag vom 5./7. September 1924 in Basel.)\n",
      "Von der Prinzipienerklärung und den Erwägungen des Parteiprogramms ausgehend,\n",
      "gibt sich die Partei folgende Richtlinien für ihre praktische Tätigkeit:\n",
      "\n",
      "I. Entwicklung der Demokratie.\n",
      "Wahl der gesetzgebenden und Exekutivbehörden in Bund, Kantonen und\n",
      "Gemeinden durch das Volk, unter Anwendung des Proporzes. Parlamentarische\n",
      "Immunität für alle Volksvertreter. Ökonomische Sicherung bei der Mandatausübung.\n",
      "Frauenwahl- und -stimmrecht, Gleichstellung der Schweizerbürger mit den\n",
      "Kantonsbürgern in kantonalen und kommunalen Angelegenheiten. Passives\n",
      "Wahlrecht des Personals der öffentlichen Dienste. Beseitigung der Ehrenfolgen bei\n",
      "fruchtloser Pfändung, Konkurs und Unterstützung aus öffentlichen Mitteln.\n",
      "Gesetzgebungsinitiative in Bund und Kantonen. Erleichterung der Einbürgerung von\n",
      "Ausländern. Trennung von Kirche und Staat.\n",
      "\n",
      "II. Aussenpolitik und Internationale.\n",
      "Wahrung der staatlichen Neutralität in den Fragen der Aussenpolitik. Entscheidung\n",
      "internationaler Konflikte durch die Schiedsgerichtsbarkeit, sofern eine Lösung auf\n",
      "dem Wege direkter friedlicher Verhandlungen nicht möglich ist. Beseitigung der\n",
      "Geheimdiplomatie, Kontrolle der Aussenpolitik durch das Parlament, Organisation\n",
      "der Handels- und Zollpolitik mit dem Ziel der Schaffung einer mittel- und\n",
      "westeuropäischen Wirtschaftsgemeinschaft. Förderung der Errichtung und des\n",
      "Ausbaues von Handelsvertretungen und Berufskonsulaten. Ausbau der\n",
      "Gesandtschaften durch Sozialabteilungen. Unterstützung von in Not geratenen\n",
      "Schweizern im Ausland.\n",
      "Unterstützung und Förderung aller Bestrebungen, die auf die Schaffung einer auf der\n",
      "Grundlage proletarischer Solidarität und der Vereinheitlichung des Klassenkampfes\n",
      "beruhenden, im Frieden wie im Kriege aktionsfähigen sozialistischen Internationale\n",
      "gerichtet sind.\n",
      "\n",
      "III. Militarismus und Landesverteidigung.\n",
      "Grundsätzlicher Kampf gegen Militarismus, Chauvinismus und Nationalismus.\n",
      "Planmässige Aufklärung des Volkes über Wesen, Zweck und Folgen des\n",
      "Militarismus. Ablehnung aller Forderungen, Kreditbegehren und Gesetze, die der\n",
      "Aufrechterhaltung oder Stärkung des Militarismus dienen oder die Gefahren\n",
      "kriegerischer Verwicklungen heraufbeschwören können. Organisierung des\n",
      "entschlossenen Widerstandes der Arbeiter gegen die Beteiligung des Landes an\n",
      "\n",
      "10\n",
      "jedem Krieg Erleichterung der finanziellen Folgen, von denen Parteigenossen\n",
      "betroffen werden können, die bei ihrer Verwendung als Soldaten gegen die\n",
      "Interessen der Arbeiterklasse den Gehorsam verweigern Unterstützung der\n",
      "Bestrebungen für die Einführung der Zivildienstpflicht, sofern der Zivildienst nicht\n",
      "militärischen Interessen dient.\n",
      "\n",
      "IV. Wirtschaftspolitik und Genossenschaftsfragen.\n",
      "Staatliche oder gemischtwirtschaftliche Einfuhrmonopole der dem Massenkonsum\n",
      "dienenden Bedarfsgegenstände und der für die schweizerische Volkswirtschaft\n",
      "wichtigen Roh- und Hilfsstoffe. Einfuhr-, Produktions- und Handelsmonopol für Tabak\n",
      "und dessen Erzeugnisse mit Ertragsbestimmung für die Zwecke sozialer\n",
      "Versicherung und sozialer Fürsorge. Sicherstellung der Brotversorgung durch das\n",
      "Getreidemonopol und die Verstaatlichung der Müllerei.\n",
      "Staatliche Ausnutzung der Wasserkräfte. Austausch elektrischer Energie durch\n",
      "eidgenössische Sammelschienen. Regelung des Energieexportes durch den Bund.\n",
      "Kommunalisierung der Gas- und Wasserwerke wie der Strassenbahnen und der\n",
      "Abgabe elektrischer Energie. Durchführung von Regiearbeiten.\n",
      "Organisation der Broterzeugung, der Milch- und Fleischversorgung sowie der\n",
      "Abgabe von Medikamenten durch Gemeinden oder Genossenschaften.\n",
      "Staatliche Aufsicht über die Tätigkeit und insbesondere über die Preispolitik der\n",
      "Aktiengesellschaften, Kartelle, Syndikate und Truste, der Banken und Geldinstitute\n",
      "sowie der Versicherungsgesellschaften, Staatliche Überwachung des\n",
      "\"Gründerwesens\".\n",
      "Ausbau der schweizerischen Handelsstatistik zu einer periodischen und\n",
      "umfassenden Wirtschafts- und Produktionsstatistik.\n",
      "\n",
      "V. Finanz- und Steuerfragen.\n",
      "Eidgenössische Postsparkasse. Ausbau der Nationalbank durch Angliederung einer\n",
      "Hypothekar- und Handelsbank. Errichtung einer schweizerischen Städtebank.\n",
      "Schaffung einer durch die Gewerkschaften und Genossenschaften fundierten\n",
      "zentralen Arbeiterbank. Planmässige Währungspolitik im Interesse der\n",
      "Volkswirtschaft.\n",
      "Vereinheitlichung des Steuerwesens und des Veranlagungsverfahrens durch eine\n",
      "progressive Bundessteuer auf Einkommen und Vermögen. Heranziehung der\n",
      "Substanz grosser Vermögen in Zeiten ausserordentlicher Beanspruchung der\n",
      "Staatsfinanzen. Besteuerung des Wertzuwachses auf Liegenschaften und\n",
      "unbebauten Grundstücken.\n",
      "Erbschaftssteuer, progressiv nach der Grösse des Erbfalles und dem Grade der\n",
      "Verwandtschaft. Amtliche Inventarisation in allen Todesfällen.\n",
      "Steuerbefreiung eines zum Leben notwendigen Betrages.\n",
      "Zollfreiheit auf unentbehrlichen Lebensmitteln und Bedarfsgegenständen sowie auf\n",
      "den für die Förderung der Produktion wichtigsten Roh- und Hilfsstoffen. Beseitigung\n",
      "der den Massenkonsum belastenden indirekten Steuern.\n",
      "\n",
      "11\n",
      "\n",
      "VI. Verwaltungsfragen.\n",
      "Verwaltungsgerichtsbarkeit.\n",
      "Autonomie der Gemeinden.\n",
      "Ausbau der staatlichen und kommunalen Produktionsbetriebe im Rahmen\n",
      "gesetzlicher Vorschriften und unter Anerkennung des Mitverwaltungsrechtes der\n",
      "Arbeiterklasse.\n",
      "Ausscheidung der Kompetenzen und Verantwortlichkeiten des Beamtenkörpers nach\n",
      "der Bedeutung der Funktionen der einzelnen Beamtung. Gesetzliche oder tarifliche\n",
      "Regelung der Amts-, Dienst- und Gehaltsverhältnisse des Personals öffentlicher\n",
      "Dienste im Sinne vorbildlicher Einrichtungen. Mitspracherecht des Personals in\n",
      "Organisations- und Betriebsfragen der öffentlichen Dienste.\n",
      "\n",
      "VII. Kultur- und Schulfragen.\n",
      "Förderung des Kampfes gegen den Alkoholismus. Zweckmässige Verwendung des\n",
      "Alkoholzehntels.\n",
      "Organisation der geistigen und physischen Erziehung Erwachsener durch Errichtung\n",
      "von Volkshäusern, Arbeiterhochschulen, öffentlichen Versammlungslokalen,\n",
      "Lesesälen, Bädern und Sportplätzen Gewährung von unentgeltlichen\n",
      "wissenschaftlichen, künstlerischen und belehrenden Darbietungen und Exkursionen.\n",
      "Kindergärten, Jugendhorte, Spielkurse, Ferienkolonien, Wald und Freiluftschulen.\n",
      "Energischer Kampf gegen die geistige Überlastung der Schüler und Förderung ihrer\n",
      "körperlichen Erziehung.\n",
      "Unentgeltlichkeit der Lehrmittel und Unterrichtsmaterialien. Unentgeltlichkeit des\n",
      "Unterrichtes für alle Begabten bis zu den obersten Stufen der Hochschulen.\n",
      "Unterstützung Bedürftiger durch ausreichende Stipendien, Schülerspeisung und\n",
      "Schülerkleidung. Schulärzte und Schulzahnkliniken.\n",
      "Aufbau des Unterrichtes auf dem Boden gemeinschaftlicher Arbeit.\n",
      "Handarbeitsunterricht für beide Geschlechter. Haushaltungs- und Kochschulen.\n",
      "Obligatorische Fortbildungsschulen. Ausschluss des Religionsunterrichtes aus der\n",
      "Schule.\n",
      "Ausreichende Sorge für die Bildung Anormaler.\n",
      "Berufslehre in Lehrwerkstätten und Fachschulen.\n",
      "\n",
      "VIII. Sozialpolitik, Arbeiterschutz und Arbeiterrecht.\n",
      "Eidgenössisches Wohnungsgesetz Erhaltung und Vermehrung des staatlichen und\n",
      "kommunalen Grundbesitzes. Erstellung billiger Wohnungen durch Staat, Gemeinden\n",
      "und Genossenschaften.\n",
      "Ausbau der Kranken- und Unfallversicherung. Vermehrte finanzielle Hilfe des\n",
      "Staates an die Krankenversicherung. Unentgeltliche ärztliche Hilfe, Heilmittel,\n",
      "Geburtshilfe und Wöchnerinnenpflege. Säuglingsheime. Ausreichende\n",
      "Krankenheilanstalten, Asyle und Sanatorien, insbesondere Förderung des Kampfes\n",
      "gegen die Tuberkulose.\n",
      "\n",
      "12\n",
      "Alters-, Invaliden- und Hinterbliebenenversicherung durch Staat oder selbständige\n",
      "genossenschaftliche Organisation der Arbeiterklasse.\n",
      "Eidgenössische Armengesetzgebung, unter Anwendung des wohnörtlichen\n",
      "Unterstützungsprinzips. Ausreichende Unterstützung, um vorübergehend Verarmte\n",
      "wieder existenzfähig zu machen. Humane Behandlung der\n",
      "Unterstützungsbedürftigen, Schutz ihrer Ehre.\n",
      "48-Stunden-Woche. Ausbau und Ausdehnung des Fabrikgesetzes. Verbot der\n",
      "Beschäftigung von Kindern unter 15 Jahren. Ausdehnung der Fabrik- und\n",
      "Gewerbeinspektion. Weibliche Fabrik- und Gewerbeinspektoren.\n",
      "Eidgenössische Gewerbegesetzgebung. Eidgenössisches Lehrlingsgesetz.\n",
      "Heimarbeiterschutzgesetz mit Sicherung der Lohnminima.\n",
      "Schutz des Koalitions- und Streikrechtes.\n",
      "Betriebsräte und Gewährung des Mitspracherechtes in Organisations- und\n",
      "Betriebsfragen. Systematische Beobachtung des Arbeitsmarktes. Ausbau der\n",
      "Arbeitsvermittlung. Regiearbeiten als Notstandsmassnahmen. Förderung der\n",
      "Arbeitslosenversicherung durch vermehrte Subventionierung der gewerkschaftlichen\n",
      "Arbeitslosenversicherung.\n",
      "\n",
      "IX. Rechtspflege und Strafvollzug.\n",
      "Wahl der Richter durch das Volk. Vereinheitlichung des Strafrechtes durch den\n",
      "Bund. Beseitigung der Todesstrafe. Abschaffung der Strafminima.\n",
      "Jugendstrafrecht und Jugendgerichte.\n",
      "Verbeiständung der Angeschuldigten während der Untersuchung. Erhöhung des\n",
      "strafmündigen Alters. Beschränkung der Untersuchungs- und Sicherheitshaft auf\n",
      "dringende Fälle. Fürsorge für die Familien Verhafteter durch den Staat. Bedingte\n",
      "Verurteilung und bedingter Strafvollzug. Beseitigung des Vergeltungsprinzips und\n",
      "Anwendung des Besserungs- und Erziehungsprinzips im Strafvollzug. Schaffung von\n",
      "Kolonien für den Strafvollzug nach amerikanischem Vorbild.\n",
      "Unentgeltliche Rechtsauskunftsstellen. Unentgeltliche Prozessführung in Zivilsachen\n",
      "für Bedürftige. Beseitigung der Lohnpfändung. Schneller Rechtstrieb in\n",
      "Lohnstreitigkeiten. Herabsetzung der Betreibungsgebühren.\n",
      "\n",
      "\n"
     ]
    }
   ],
   "source": [
    "# alternatively, read from a single txt file \n",
    "f_text = '../materials/swiss_party_programmes/txt/sp_programmes/1920_parteiprogramm_d.txt'\n",
    "text = textacy.io.read_text(f_text)\n",
    "\n",
    "# show content\n",
    "# special generator syntax as text is read just-in-time (streaming)\n",
    "print(next(text))"
   ]
  },
  {
   "cell_type": "markdown",
   "metadata": {
    "slideshow": {
     "slide_type": "slide"
    }
   },
   "source": [
    "# Working with a Corpus"
   ]
  },
  {
   "cell_type": "markdown",
   "metadata": {
    "slideshow": {
     "slide_type": "subslide"
    }
   },
   "source": [
    "# Create a Corpus I\n",
    "\n",
    "How to make a collection of texts?\n",
    "\n",
    "1. index files\n",
    "2. read file content\n",
    "3. parse metadata from file name\n",
    "4. return each document sequentially\n",
    "\n",
    "&rarr; wrap all this in a function `get_texts()`"
   ]
  },
  {
   "cell_type": "code",
   "execution_count": 5,
   "metadata": {
    "slideshow": {
     "slide_type": "subslide"
    }
   },
   "outputs": [],
   "source": [
    "def get_texts(dir_texts):\n",
    "    \"\"\"\n",
    "    Sequentially stream all documents from a given folder,\n",
    "    including metadata.\n",
    "    \"\"\"\n",
    "    p = Path(dir_texts) # set base dir\n",
    "    \n",
    "    # iterate over all documents\n",
    "    for fname in p.glob('**/*.txt'):\n",
    "        \n",
    "        print('Parsing file:', fname.name)\n",
    "        \n",
    "        content = next(textacy.io.text.read_text(fname))\n",
    "        # join lines as there are hard line-breaks\n",
    "        content = content.replace('\\n', ' ')\n",
    "        # further modify the text content here if needed\n",
    "\n",
    "        # parse year from filename and set a metadata\n",
    "        # example: 1920_parteiprogramm_d.txt --> year=1920\n",
    "        try:\n",
    "            year = int(fname.name.split('_')[0])\n",
    "        except ValueError:\n",
    "            print('WARNING: Parsing meta data failed:',\n",
    "                  fname.name)\n",
    "            continue\n",
    "\n",
    "        # add more metadata here if needed\n",
    "        metadata = {'fname': fname.name, 'year': year}\n",
    "        \n",
    "        # return documents one after another (sequentially)\n",
    "        yield (content, metadata)"
   ]
  },
  {
   "cell_type": "markdown",
   "metadata": {
    "slideshow": {
     "slide_type": "subslide"
    }
   },
   "source": [
    "# Create a Corpus II\n"
   ]
  },
  {
   "cell_type": "code",
   "execution_count": 6,
   "metadata": {
    "slideshow": {
     "slide_type": "-"
    }
   },
   "outputs": [
    {
     "name": "stdout",
     "output_type": "stream",
     "text": [
      "Parsing file: 1920_parteiprogramm_d.txt\n",
      "Parsing file: 1982_parteiprogramm_d_0.txt\n",
      "Parsing file: 1888_parteiprogramm_d_0.txt\n",
      "Parsing file: sp-parteiprogramm_definitiv-de_0.txt\n",
      "WARNING: Parsing meta data failed: sp-parteiprogramm_definitiv-de_0.txt\n",
      "Parsing file: 1904_parteiprogramm_d_0.txt\n",
      "Parsing file: 1959_parteiprogramm_d_0.txt\n",
      "Parsing file: 1870_parteiprogramm_d_0.txt\n",
      "Parsing file: 1935_parteiprogramm_d_0.txt\n"
     ]
    }
   ],
   "source": [
    "# stream texts from a given folder\n",
    "dir_texts = '../materials/swiss_party_programmes/txt/sp_programmes/'\n",
    "texts = get_texts(dir_texts)\n",
    "\n",
    "# load German language model\n",
    "de = textacy.load_spacy_lang(\"de_core_news_sm\")\n",
    "\n",
    "# create corpus from processed documents\n",
    "corpus = textacy.Corpus(de, data=texts)"
   ]
  },
  {
   "cell_type": "markdown",
   "metadata": {
    "slideshow": {
     "slide_type": "subslide"
    }
   },
   "source": [
    "# Basic Corpus Statistics"
   ]
  },
  {
   "cell_type": "code",
   "execution_count": 7,
   "metadata": {
    "slideshow": {
     "slide_type": "-"
    }
   },
   "outputs": [
    {
     "name": "stdout",
     "output_type": "stream",
     "text": [
      "# documents: 7\n",
      "# sentences: 3359\n",
      "# tokens: 45598\n"
     ]
    }
   ],
   "source": [
    "print('# documents:', corpus.n_docs)\n",
    "print('# sentences:', corpus.n_sents)\n",
    "print('# tokens:', corpus.n_tokens)"
   ]
  },
  {
   "cell_type": "markdown",
   "metadata": {
    "slideshow": {
     "slide_type": "subslide"
    }
   },
   "source": [
    "# Export Word Counts"
   ]
  },
  {
   "cell_type": "code",
   "execution_count": 8,
   "metadata": {
    "slideshow": {
     "slide_type": "-"
    }
   },
   "outputs": [
    {
     "data": {
      "text/plain": [
       "[('menschen', 112),\n",
       " ('partei', 101),\n",
       " ('demokratie', 94),\n",
       " ('entwicklung', 92),\n",
       " ('staat', 92)]"
      ]
     },
     "execution_count": 8,
     "metadata": {},
     "output_type": "execute_result"
    }
   ],
   "source": [
    "# get lowercased and filtered corpus vocabulary\n",
    "vocab = corpus.word_counts(as_strings=True, normalize= 'lower', filter_stops = True, filter_punct = True, filter_nums = True)\n",
    "\n",
    "# sort vocabulary by descending frequency\n",
    "vocab_sorted = sorted(vocab.items(), key=lambda x: x[1], reverse=True)\n",
    "\n",
    "# write to file, one word and its frequency per line\n",
    "fname = '../analysis/vocab_frq.txt'\n",
    "with open(fname, 'w') as f:   \n",
    "    for word, frq in vocab_sorted:\n",
    "        line = f\"{word}\\t{frq}\\n\"\n",
    "        f.write(line)\n",
    "\n",
    "vocab_sorted[:5]"
   ]
  },
  {
   "cell_type": "markdown",
   "metadata": {
    "slideshow": {
     "slide_type": "subslide"
    }
   },
   "source": [
    "# Working with Subcorpus\n",
    "\n",
    "Interested in a group of documents only?"
   ]
  },
  {
   "cell_type": "code",
   "execution_count": 9,
   "metadata": {
    "slideshow": {
     "slide_type": "-"
    }
   },
   "outputs": [
    {
     "data": {
      "text/plain": [
       "(5, 7)"
      ]
     },
     "execution_count": 9,
     "metadata": {},
     "output_type": "execute_result"
    }
   ],
   "source": [
    "# function to filter by metadata, e.g. publication year after 1900\n",
    "filter_func = lambda doc: doc._.meta .get(\"year\") > 1900\n",
    "\n",
    "# create new corpus after applying filter function\n",
    "subcorpus = textacy.corpus.Corpus(de, data=corpus.get(filter_func))\n",
    "\n",
    "subcorpus.n_docs, corpus.n_docs"
   ]
  },
  {
   "cell_type": "code",
   "execution_count": 10,
   "metadata": {
    "slideshow": {
     "slide_type": "fragment"
    }
   },
   "outputs": [
    {
     "data": {
      "text/plain": [
       "{'fname': '1920_parteiprogramm_d.txt', 'year': 1920}"
      ]
     },
     "execution_count": 10,
     "metadata": {},
     "output_type": "execute_result"
    }
   ],
   "source": [
    "# select the first document in corpus\n",
    "first_doc = corpus[0]\n",
    "first_doc._.meta"
   ]
  },
  {
   "cell_type": "markdown",
   "metadata": {
    "slideshow": {
     "slide_type": "slide"
    }
   },
   "source": [
    "# Key Word in Context (KWIC)\n",
    "\n",
    "show words in their original context"
   ]
  },
  {
   "cell_type": "code",
   "execution_count": 11,
   "metadata": {},
   "outputs": [
    {
     "name": "stdout",
     "output_type": "stream",
     "text": [
      "wärts beziehen und für seine Industrieprodukte im  Ausland  Absatz suchen muss, deshalb von allen Schwankunge\n",
      " Unterstützung von in Not geratenen Schweizern im  Ausland . Unterstützung und Förderung aller Bestrebungen, \n",
      "eaktion, weil die Schweiz in mancher Hinsicht vom  Ausland  abhängig und weltweiten Zwängen ausgesetzt ist. U\n",
      "eren multinational. Produktionsstätten werden ins  Ausland  verlagert und einheimische Betriebe von multinati\n",
      "chränkungen. Die Schweiz ist nicht nur selbst vom  Ausland  abhängig, sie schafft auch Abhängigkeiten. Wie an\n",
      "ine Beschränkung der Futtermittel-lmporte aus dem  Ausland .  39  (26) Landwirtschaftspolitik  ❑ Die Einkomme\n",
      "piel einer wirksamen Massnahme. 2. Das Risiko der  Ausland abhängigkeit der Energieversorgung soll reduziert \n",
      " der Radioaktivität eine untragbare Hypothek, die  Ausland abhängigkeit (Uran) enorm und die Sicherheit (Unfa\n",
      "te und landwirtschaftlichen Erzeugnisse Absatz im  Ausland e suchen muss und deshalb von allen Schwankungen u\n",
      "Interesse stabiler Wirtschaftsbeziehungen mit dem  Ausland  sind feste Wechselkurse erwünscht; doch darf das \n",
      "haft ist so zu regeln, dass die zur Ergänzung der  Inland produktion notwendige Einfuhr nicht verteuert wird\n",
      "und wichtigen landwirtschaftlichen Erzeugnisse im  Ausland  Absatz suchen. Aus diesem Grunde wird die schweiz\n",
      "egung hat durch die Entwicklung des Faschismus im  Ausland  ihren Auftrieb erhalten. Durch das Aufkommen des \n",
      "ndere die Steigerung des Exportes, der Ausbau der  Inland industrie, die Entschuldung der Landwirtschaft sow\n",
      "iche Führung des gesamten Kapitalverkehrs mit dem  Ausland  unter Eingliederung des Kapitalexportes in die st\n",
      "häfte;  c)  Verbot der selbständigen Tätigung des  Ausland geschäftes;  d)  Schaffung eines Überwachungs- und\n",
      "nrechnung;  d)  einheitliche Verkaufstätigkeit im  Ausland ;  e)  Schaffung technisch-wissenschaftlicher Fors\n",
      " wird der Absatz landwirtschaftlicher Produkte im  Inland  erhöht. Die Aussenhandelspolitik und der Kapitale\n",
      "tsetzung der Preise und die Propaganda im In- und  Ausland e.  VIII. Schutz der Arbeit. Zur Sicherung der Leb\n",
      "Sicherheit der schweizerischen Kapitalguthaben im  Ausland  es erfordern. Nach Anerkennung der Union der Sozi\n"
     ]
    }
   ],
   "source": [
    "# iterate over documents and print matches\n",
    "# you can use regular expressions as keyword\n",
    "for doc in corpus:\n",
    "    results = textacy.text_utils.keyword_in_context(doc.text, keyword = '(Ausland|Inland)', ignore_case = True, window_width = 50, print_only = True)\n",
    "    for match in results:\n",
    "        print(doc.text)"
   ]
  },
  {
   "cell_type": "markdown",
   "metadata": {
    "slideshow": {
     "slide_type": "slide"
    }
   },
   "source": [
    "# Export Results to File\n",
    "\n",
    "collect any information and write to file"
   ]
  },
  {
   "cell_type": "code",
   "execution_count": 12,
   "metadata": {
    "slideshow": {
     "slide_type": "-"
    }
   },
   "outputs": [
    {
     "name": "stdout",
     "output_type": "stream",
     "text": [
      "Die sozialistische Gesellschaft wird sich bestreben, durch die Befriedigung der Bedürfnisse aller Arbeitenden und durch die Fürsorge für alle Arbeitsunfähigen Armut und Not, Verbrechen und Prostitution, die in den Zuständen des Kapitalismus ihren Nährboden fanden, als gesellschaftliche Erscheinung zum Verschwinden zu bringen.\t1935_parteiprogramm_d_0.txt\n"
     ]
    }
   ],
   "source": [
    "results = []\n",
    "\n",
    "for doc in corpus:\n",
    "    for sent in doc.sents:\n",
    "        if 'Armut' in sent.text:\n",
    "            # match starts with the sentence, followed by the filename (tab-separated)\n",
    "            match = f\"{sent.text}\\t{doc._.meta['fname']}\"\n",
    "            results.append(match)\n",
    "\n",
    "fname = '../analysis/sents_poverty.txt'\n",
    "with open(fname, 'w') as f:\n",
    "    f.write('\\n'.join(results))\n",
    "\n",
    "print(match)"
   ]
  },
  {
   "cell_type": "markdown",
   "metadata": {
    "slideshow": {
     "slide_type": "slide"
    }
   },
   "source": [
    "# Export Corpus"
   ]
  },
  {
   "cell_type": "code",
   "execution_count": 13,
   "metadata": {
    "slideshow": {
     "slide_type": "subslide"
    }
   },
   "outputs": [],
   "source": [
    "# pretty complex syntax to\n",
    "# merge metadata and actual content for each document in the corpus\n",
    "data = [{**doc._.meta, **{'text': doc.text}} for doc in corpus]\n",
    "\n",
    "# export corpus as csv\n",
    "f_csv = '../analysis/corpus_party_programmes.csv'\n",
    "textacy.io.csv.write_csv(data, f_csv, fieldnames=data[0].keys())"
   ]
  },
  {
   "cell_type": "markdown",
   "metadata": {
    "slideshow": {
     "slide_type": "slide"
    }
   },
   "source": [
    "# Explore Corpus interactively\n",
    "\n",
    "![Example Scattertext](../analysis/viz_party_differences.png)"
   ]
  },
  {
   "cell_type": "markdown",
   "metadata": {
    "slideshow": {
     "slide_type": "subslide"
    }
   },
   "source": [
    "# Scattertext\n",
    "\n",
    "- divide into subcorpus + rest by\n",
    "    - organization, person, gender, time etc.\n",
    "- find discriminative terms\n",
    "    - *unigrams* + *bigrams*\n",
    "- interactive exploring\n",
    "- scoring function *rank-frequency*\n",
    "    - normalized by number of terms [0,1]"
   ]
  },
  {
   "cell_type": "markdown",
   "metadata": {
    "slideshow": {
     "slide_type": "subslide"
    }
   },
   "source": [
    "# Load CSV File\n",
    "\n",
    "load a dataset of 1 August speeches by Swiss federal councillors"
   ]
  },
  {
   "cell_type": "code",
   "execution_count": 14,
   "metadata": {
    "slideshow": {
     "slide_type": "subslide"
    }
   },
   "outputs": [
    {
     "data": {
      "text/html": [
       "<div>\n",
       "<style scoped>\n",
       "    .dataframe tbody tr th:only-of-type {\n",
       "        vertical-align: middle;\n",
       "    }\n",
       "\n",
       "    .dataframe tbody tr th {\n",
       "        vertical-align: top;\n",
       "    }\n",
       "\n",
       "    .dataframe thead th {\n",
       "        text-align: right;\n",
       "    }\n",
       "</style>\n",
       "<table border=\"1\" class=\"dataframe\">\n",
       "  <thead>\n",
       "    <tr style=\"text-align: right;\">\n",
       "      <th></th>\n",
       "      <th>Jahr</th>\n",
       "      <th>Status</th>\n",
       "      <th>Vollständigkeit</th>\n",
       "      <th>Redner</th>\n",
       "      <th>Geschlecht</th>\n",
       "      <th>Funktion</th>\n",
       "      <th>Partei</th>\n",
       "      <th>Partei-Original</th>\n",
       "      <th>Typ</th>\n",
       "      <th>Bemerkung</th>\n",
       "      <th>Sprache</th>\n",
       "      <th>Originalsprache</th>\n",
       "      <th>Ort</th>\n",
       "      <th>Titel</th>\n",
       "      <th>Anrede</th>\n",
       "      <th>Text</th>\n",
       "      <th>Originaltext</th>\n",
       "      <th>Quelle</th>\n",
       "      <th>descripton</th>\n",
       "    </tr>\n",
       "  </thead>\n",
       "  <tbody>\n",
       "    <tr>\n",
       "      <th>0</th>\n",
       "      <td>2018</td>\n",
       "      <td>done</td>\n",
       "      <td>vollständig</td>\n",
       "      <td>Alain Berset</td>\n",
       "      <td>m</td>\n",
       "      <td>BP</td>\n",
       "      <td>SP</td>\n",
       "      <td>SP</td>\n",
       "      <td>BP-Rede</td>\n",
       "      <td>NaN</td>\n",
       "      <td>de</td>\n",
       "      <td>NaN</td>\n",
       "      <td>NaN</td>\n",
       "      <td>NaN</td>\n",
       "      <td>Sehr geehrte Damen und Herren</td>\n",
       "      <td>Wir leben in der Schweiz in Frieden und Wohlst...</td>\n",
       "      <td>NaN</td>\n",
       "      <td>https://www.admin.ch/gov/de/start/dokumentatio...</td>\n",
       "      <td>Alain Berset, SP, 2018</td>\n",
       "    </tr>\n",
       "    <tr>\n",
       "      <th>3</th>\n",
       "      <td>2018</td>\n",
       "      <td>done</td>\n",
       "      <td>vollständig</td>\n",
       "      <td>Doris Leuthard</td>\n",
       "      <td>f</td>\n",
       "      <td>BR</td>\n",
       "      <td>CVP</td>\n",
       "      <td>CVP</td>\n",
       "      <td>Lokal</td>\n",
       "      <td>NaN</td>\n",
       "      <td>de</td>\n",
       "      <td>NaN</td>\n",
       "      <td>Villmergen</td>\n",
       "      <td>NaN</td>\n",
       "      <td>Liebe Mitbürgerinnen und Mitbürger</td>\n",
       "      <td>Ich bedanke mich für die Einladung zu Ihrer 1....</td>\n",
       "      <td>NaN</td>\n",
       "      <td>https://www.admin.ch/gov/de/start/dokumentatio...</td>\n",
       "      <td>Doris Leuthard, CVP, 2018</td>\n",
       "    </tr>\n",
       "    <tr>\n",
       "      <th>4</th>\n",
       "      <td>2018</td>\n",
       "      <td>done</td>\n",
       "      <td>vollständig</td>\n",
       "      <td>Guy Parmelin</td>\n",
       "      <td>m</td>\n",
       "      <td>BR</td>\n",
       "      <td>SVP</td>\n",
       "      <td>SVP</td>\n",
       "      <td>Lokal</td>\n",
       "      <td>NaN</td>\n",
       "      <td>de</td>\n",
       "      <td>NaN</td>\n",
       "      <td>NaN</td>\n",
       "      <td>«Armbrust und Hellebarde»</td>\n",
       "      <td>Sehr geehrte Eidgenossen, Meine Damen und Herren</td>\n",
       "      <td>Eine 1.-August-Rede ist eine der heikelsten rh...</td>\n",
       "      <td>NaN</td>\n",
       "      <td>https://www.admin.ch/gov/de/start/dokumentatio...</td>\n",
       "      <td>Guy Parmelin, SVP, 2018</td>\n",
       "    </tr>\n",
       "    <tr>\n",
       "      <th>5</th>\n",
       "      <td>2018</td>\n",
       "      <td>done</td>\n",
       "      <td>vollständig</td>\n",
       "      <td>Ignazio Cassis</td>\n",
       "      <td>m</td>\n",
       "      <td>BR</td>\n",
       "      <td>FDP</td>\n",
       "      <td>FDP</td>\n",
       "      <td>Lokal</td>\n",
       "      <td>NaN</td>\n",
       "      <td>de</td>\n",
       "      <td>NaN</td>\n",
       "      <td>Rorschach</td>\n",
       "      <td>Die Italianità hat ihre Wurzeln in Rorschach</td>\n",
       "      <td>Gueten Obig mitenand!</td>\n",
       "      <td>Und danke für diese freundliche Einladung!\\nIc...</td>\n",
       "      <td>NaN</td>\n",
       "      <td>https://www.admin.ch/gov/de/start/dokumentatio...</td>\n",
       "      <td>Ignazio Cassis, FDP, 2018</td>\n",
       "    </tr>\n",
       "    <tr>\n",
       "      <th>6</th>\n",
       "      <td>2018</td>\n",
       "      <td>done</td>\n",
       "      <td>vollständig</td>\n",
       "      <td>Simonetta Sommaruga</td>\n",
       "      <td>f</td>\n",
       "      <td>BR</td>\n",
       "      <td>SP</td>\n",
       "      <td>SP</td>\n",
       "      <td>Lokal</td>\n",
       "      <td>NaN</td>\n",
       "      <td>de</td>\n",
       "      <td>NaN</td>\n",
       "      <td>Muttenz</td>\n",
       "      <td>Heimat kennt keine Grenzen</td>\n",
       "      <td>Liebe Festgemeinde,\\nSehr geehrter Herr Regier...</td>\n",
       "      <td>Als ich die Einladung zu dieser Bundesfeier ge...</td>\n",
       "      <td>NaN</td>\n",
       "      <td>https://www.ejpd.admin.ch/ejpd/de/home/aktuell...</td>\n",
       "      <td>Simonetta Sommaruga, SP, 2018</td>\n",
       "    </tr>\n",
       "  </tbody>\n",
       "</table>\n",
       "</div>"
      ],
      "text/plain": [
       "   Jahr Status Vollständigkeit               Redner Geschlecht Funktion  \\\n",
       "0  2018   done     vollständig         Alain Berset          m       BP   \n",
       "3  2018   done     vollständig       Doris Leuthard          f       BR   \n",
       "4  2018   done     vollständig         Guy Parmelin          m       BR   \n",
       "5  2018   done     vollständig       Ignazio Cassis          m       BR   \n",
       "6  2018   done     vollständig  Simonetta Sommaruga          f       BR   \n",
       "\n",
       "  Partei Partei-Original      Typ Bemerkung Sprache Originalsprache  \\\n",
       "0     SP              SP  BP-Rede       NaN      de             NaN   \n",
       "3    CVP             CVP    Lokal       NaN      de             NaN   \n",
       "4    SVP             SVP    Lokal       NaN      de             NaN   \n",
       "5    FDP             FDP    Lokal       NaN      de             NaN   \n",
       "6     SP              SP    Lokal       NaN      de             NaN   \n",
       "\n",
       "          Ort                                         Titel  \\\n",
       "0         NaN                                           NaN   \n",
       "3  Villmergen                                           NaN   \n",
       "4         NaN                     «Armbrust und Hellebarde»   \n",
       "5   Rorschach  Die Italianità hat ihre Wurzeln in Rorschach   \n",
       "6     Muttenz                    Heimat kennt keine Grenzen   \n",
       "\n",
       "                                              Anrede  \\\n",
       "0                      Sehr geehrte Damen und Herren   \n",
       "3                 Liebe Mitbürgerinnen und Mitbürger   \n",
       "4   Sehr geehrte Eidgenossen, Meine Damen und Herren   \n",
       "5                              Gueten Obig mitenand!   \n",
       "6  Liebe Festgemeinde,\\nSehr geehrter Herr Regier...   \n",
       "\n",
       "                                                Text Originaltext  \\\n",
       "0  Wir leben in der Schweiz in Frieden und Wohlst...          NaN   \n",
       "3  Ich bedanke mich für die Einladung zu Ihrer 1....          NaN   \n",
       "4  Eine 1.-August-Rede ist eine der heikelsten rh...          NaN   \n",
       "5  Und danke für diese freundliche Einladung!\\nIc...          NaN   \n",
       "6  Als ich die Einladung zu dieser Bundesfeier ge...          NaN   \n",
       "\n",
       "                                              Quelle  \\\n",
       "0  https://www.admin.ch/gov/de/start/dokumentatio...   \n",
       "3  https://www.admin.ch/gov/de/start/dokumentatio...   \n",
       "4  https://www.admin.ch/gov/de/start/dokumentatio...   \n",
       "5  https://www.admin.ch/gov/de/start/dokumentatio...   \n",
       "6  https://www.ejpd.admin.ch/ejpd/de/home/aktuell...   \n",
       "\n",
       "                      descripton  \n",
       "0         Alain Berset, SP, 2018  \n",
       "3      Doris Leuthard, CVP, 2018  \n",
       "4        Guy Parmelin, SVP, 2018  \n",
       "5      Ignazio Cassis, FDP, 2018  \n",
       "6  Simonetta Sommaruga, SP, 2018  "
      ]
     },
     "execution_count": 14,
     "metadata": {},
     "output_type": "execute_result"
    }
   ],
   "source": [
    "# read dataset from csv file\n",
    "f_csv = '../materials/dataset_speeches_federal_council_2019.csv'\n",
    "df = pd.read_csv(f_csv)\n",
    "\n",
    "# filter out non-german texts or very short texts\n",
    "df_sub = df[(df['Sprache'] == 'de') & (df['Text'].str.len() > 10)]\n",
    "\n",
    "# make new column containing all relevant metadata (to show in plot)\n",
    "df_sub['descripton'] = df_sub[['Redner', 'Partei', 'Jahr']].astype(str).agg(', '.join, axis=1)\n",
    "\n",
    "# sneak peek of dataset\n",
    "df_sub.head()"
   ]
  },
  {
   "cell_type": "code",
   "execution_count": 15,
   "metadata": {
    "slideshow": {
     "slide_type": "subslide"
    }
   },
   "outputs": [
    {
     "data": {
      "text/plain": [
       "2458706"
      ]
     },
     "execution_count": 15,
     "metadata": {},
     "output_type": "execute_result"
    }
   ],
   "source": [
    "# tags to ignore in corpus, e.g. numbers\n",
    "censor_tags = set(['CARD'])\n",
    "\n",
    "# stop words to ignore in corpus\n",
    "de_stopwords = spacy.lang.de.stop_words.STOP_WORDS # default stop words\n",
    "custom_stopwords = set(['[', ']', '3.'])\n",
    "de_stopwords = de_stopwords.union(custom_stopwords)\n",
    "\n",
    "# create corpus from dataframe\n",
    "# lowercased terms, no stopwords, no numbers\n",
    "# use lemmas for English only, German quality is too bad\n",
    "corpus_speeches = st.CorpusFromPandas(df_sub,\n",
    "                             category_col='Partei',\n",
    "                             text_col='Text',\n",
    "                             nlp=de, # German model\n",
    "                             feats_from_spacy_doc=st.FeatsFromSpacyDoc(tag_types_to_censor=censor_tags, use_lemmas=False),\n",
    "                             ).build().get_stoplisted_unigram_corpus(de_stopwords)\n",
    "\n",
    "# produce visualization (interactive html)\n",
    "html = st.produce_scattertext_explorer(corpus_speeches,\n",
    "            category='SP', # set attribute to divide corpus into two parts\n",
    "            category_name='SP',\n",
    "            not_category_name='other parties',\n",
    "            metadata=df_sub['descripton'],\n",
    "            width_in_pixels=1000,\n",
    "            minimum_term_frequency=5, # drop terms occurring less than 5 times\n",
    "            save_svg_button=True,                          \n",
    ")\n",
    "\n",
    "# write visualization to html file\n",
    "fname = \"../analysis/viz_party_differences.html\"\n",
    "open(fname, 'wb').write(html.encode('utf-8'))"
   ]
  },
  {
   "cell_type": "markdown",
   "metadata": {
    "slideshow": {
     "slide_type": "slide"
    }
   },
   "source": [
    "# Plot Term Frequencies over Time\n",
    "\n",
    "![Example](../analysis/rel_term_frq_nation.png)"
   ]
  },
  {
   "cell_type": "markdown",
   "metadata": {
    "slideshow": {
     "slide_type": "subslide"
    }
   },
   "source": [
    "# Create Corpus III\n",
    "\n",
    "define new function to read from csv `get_texts_from_csv`"
   ]
  },
  {
   "cell_type": "code",
   "execution_count": null,
   "metadata": {
    "slideshow": {
     "slide_type": "-"
    }
   },
   "outputs": [],
   "source": [
    "def get_texts_from_csv(f_csv, text_column):\n",
    "    \"\"\"\n",
    "    Read dataset from a csv file and sequentially stream the rows,\n",
    "    including metadata.\n",
    "    \"\"\"\n",
    "    \n",
    "    # read dataframe\n",
    "    df = pd.read_csv(f_csv)\n",
    "    \n",
    "    # keep only documents that have text\n",
    "    filtered_df = df[df[text_column].notnull()]\n",
    "    \n",
    "    # iterate over rows in dataframe\n",
    "    for idx, row in filtered_df.iterrows():\n",
    "        \n",
    "        # read text and join lines (hard line-breaks)\n",
    "        text = row[text_column].replace('\\n', ' ')\n",
    "\n",
    "        # use all columns as metadata, except the column with the actual text\n",
    "        metadata = row.to_dict()\n",
    "        del metadata[text_column]\n",
    "\n",
    "        yield (text, metadata)\n",
    "\n",
    "\n",
    "f_csv = '../materials/dataset_speeches_federal_council_2019.csv'\n",
    "texts = get_texts_from_csv(f_csv, text_column='Text')\n",
    "\n",
    "corpus_speeches = textacy.Corpus(de, data=texts)"
   ]
  },
  {
   "cell_type": "code",
   "execution_count": null,
   "metadata": {
    "slideshow": {
     "slide_type": "subslide"
    }
   },
   "outputs": [],
   "source": [
    "# pretty complex syntax to stream speeches per group\n",
    "# define the kind of term information: lowercased, unigram, no stop words\n",
    "tokenized_docs, groups = textacy.io.unzip(\n",
    "        (doc._.to_terms_list(normalize='lower', ngrams=1, entities=False, as_strings=True, filter_stops=False),\n",
    "         doc._.meta[\"Jahr\"])\n",
    "        for doc in corpus_speeches)\n",
    "\n",
    "# define type of freqency, here relative term frequency\n",
    "vectorizer = textacy.vsm.GroupVectorizer(\n",
    "        tf_type='linear', # absolute term frequency\n",
    "        apply_dl=True, # normalized by document length\n",
    "        dl_type=\"linear\",\n",
    "        vocabulary_grps=range(1950, 2019)) # only years from 1950 to 2019\n",
    "\n",
    "# produce group-term-matrix with with frequency counts\n",
    "grp_term_matrix = vectorizer.fit_transform(tokenized_docs, groups)\n",
    "\n",
    "# create dataframe from matrix\n",
    "df_terms = pd.DataFrame.sparse.from_spmatrix(grp_term_matrix, index=vectorizer.grps_list, columns=vectorizer.terms_list)\n",
    "df_terms['year'] = df_terms.index.values\n",
    "\n",
    "# change shape of dataframe\n",
    "df_tidy = df_terms.melt(id_vars='year', var_name=\"term\",\n",
    "        value_name=\"frequency\")\n",
    "\n",
    "# filter the dataset for the following terms\n",
    "terms = [\"volk\", \"schweiz\", \"nation\"]\n",
    "df_terms = df_tidy[df_tidy['term'].isin(terms)]\n",
    "\n",
    "# plot the relative frequency for the terms above\n",
    "p = (ggplot(df_terms, aes(x='year', y='frequency', color='term'))\n",
    " + geom_point() # show individual points\n",
    " + stat_smooth(method='loess', span=0.2, se=False) # overlay points with a smoothed line\n",
    " + theme_classic()) # make the plot look nicer"
   ]
  },
  {
   "cell_type": "code",
   "execution_count": null,
   "metadata": {
    "slideshow": {
     "slide_type": "subslide"
    }
   },
   "outputs": [],
   "source": [
    "# check some other terms\n",
    "\n",
    "terms = [\"schweizer\", \"schweizerinnen\"]\n",
    "df_terms = df_tidy[df_tidy['term'].isin(terms)]\n",
    "\n",
    "(ggplot(df_terms, aes('year', 'frequency', color='term'))\n",
    " + geom_point(alpha=0.5, stroke = 0) # set transparency\n",
    " + stat_smooth(method='loess', span=0.2, se=False)\n",
    " + theme_classic())\n",
    "\n",
    "# save as png\n",
    "fname = '../analysis/rel_term_frq_gender.png'\n",
    "p.save(filename=fname, dpi=150, verbose = False)\n",
    "p"
   ]
  },
  {
   "cell_type": "code",
   "execution_count": null,
   "metadata": {
    "slideshow": {
     "slide_type": "subslide"
    }
   },
   "outputs": [],
   "source": [
    "# check some other terms\n",
    "\n",
    "terms = [\"solidarität\", \"kultur\", \"werte\"]\n",
    "\n",
    "df_terms = df_tidy[df_tidy['term'].isin(terms)]\n",
    "\n",
    "(ggplot(df_terms, aes('year', 'frequency', color='term'))\n",
    " + geom_point(alpha=0.5, stroke = 0)\n",
    " + stat_smooth(method='loess', span=0.2, se=False)\n",
    " + theme_classic())"
   ]
  },
  {
   "cell_type": "markdown",
   "metadata": {
    "slideshow": {
     "slide_type": "slide"
    }
   },
   "source": [
    "# Number of Documents per Year"
   ]
  },
  {
   "cell_type": "code",
   "execution_count": null,
   "metadata": {
    "slideshow": {
     "slide_type": "-"
    }
   },
   "outputs": [],
   "source": [
    "df = pd.read_csv(f_csv)\n",
    "docs_per_year = df.groupby('Jahr').agg({'Text': \"count\" }).reset_index().rename(columns={'Text':'count'})\n",
    "\n",
    "(ggplot(docs_per_year, aes(x='Jahr', y='count'))\n",
    " + geom_line(color='darkblue')\n",
    " +  labs(title = \"Number of Speeches per Year\", x = \"Year\", y = \"Count\")\n",
    " + theme_classic())"
   ]
  },
  {
   "cell_type": "markdown",
   "metadata": {
    "slideshow": {
     "slide_type": "slide"
    }
   },
   "source": [
    "# Outlook: NLP is on Fire 🔥\n",
    "\n",
    "\n",
    "- Named Entity Recognition (NER)\n",
    "  - *organizations, persons, locations, time etc.*\n",
    "- word embeddings\n",
    "  - *continious vectors instead of discrete symbols*\n",
    "- extract structured information\n",
    "  - *A does X to B*\n",
    "- train classifiers to predict"
   ]
  },
  {
   "cell_type": "markdown",
   "metadata": {
    "slideshow": {
     "slide_type": "slide"
    }
   },
   "source": [
    "\n",
    "# In-class: Exercises I\n",
    "\n",
    "1. Make sure that your local copy of the Github repository KED2020 is up-to-date with `git pull`. You can find the code of this notebook as python script: `scripts/KED2020_10.py` along with the used dataset in `materials/dataset_speeches_federal_council_2019.csv`.\n",
    "\n",
    "2. Open `scripts/KED2020_10.py` in Spyder.\n",
    "\n",
    "3. Play around with the code is a good way to learn. Modify one thing, run the code, and see if the output matches your expectations.\n",
    "\n",
    "4. Come up with your own terms for the KWIC and the frequency plot.\n",
    "\n",
    "5. Getting bored? Check out the documentation of the packages linked above.\n"
   ]
  },
  {
   "cell_type": "markdown",
   "metadata": {
    "slideshow": {
     "slide_type": "slide"
    }
   },
   "source": [
    "# Resources\n",
    "\n",
    "#### tutorials on spaCy\n",
    "\n",
    "- [Official spaCy 101](https://spacy.io/usage/spacy-101)\n",
    "\n",
    "- [Hitchhiker's Guide to NLP in spaCy](https://www.kaggle.com/nirant/hitchhiker-s-guide-to-nlp-in-spacy)"
   ]
  }
 ],
 "metadata": {
  "celltoolbar": "Slideshow",
  "kernelspec": {
   "display_name": "Python 3",
   "language": "python",
   "name": "python3"
  },
  "language_info": {
   "codemirror_mode": {
    "name": "ipython",
    "version": 3
   },
   "file_extension": ".py",
   "mimetype": "text/x-python",
   "name": "python",
   "nbconvert_exporter": "python",
   "pygments_lexer": "ipython3",
   "version": "3.8.2"
  },
  "rise": {
   "enable_chalkboard": true
  }
 },
 "nbformat": 4,
 "nbformat_minor": 2
}
