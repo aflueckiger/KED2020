{
 "cells": [
  {
   "cell_type": "markdown",
   "metadata": {
    "slideshow": {
     "slide_type": "slide"
    }
   },
   "source": [
    "<section id=\"title-slide\">\n",
    "  <h1 class=\"title\">The ABC of computational Text Analysis</h1>\n",
    "  <p class=\"subtitle\">10: NLP with Python</p>\n",
    "  <p class=\"author\">Alex Flückiger</p>\n",
    "  <p class=\"date\">7 May 2020</p>\n",
    "</section>"
   ]
  },
  {
   "cell_type": "code",
   "execution_count": 1,
   "metadata": {
    "slideshow": {
     "slide_type": "skip"
    }
   },
   "outputs": [
    {
     "data": {
      "text/html": [
       "<style>\n",
       "div.prompt {display:none}\n",
       "</style>\n"
      ],
      "text/plain": [
       "<IPython.core.display.HTML object>"
      ]
     },
     "metadata": {},
     "output_type": "display_data"
    }
   ],
   "source": [
    "%%HTML\n",
    "<style>\n",
    "div.prompt {display:none}\n",
    "</style>"
   ]
  },
  {
   "cell_type": "markdown",
   "metadata": {
    "slideshow": {
     "slide_type": "slide"
    }
   },
   "source": [
    "# Do NLP"
   ]
  },
  {
   "cell_type": "markdown",
   "metadata": {
    "slideshow": {
     "slide_type": "slide"
    }
   },
   "source": [
    "## Modules\n",
    "\n",
    "#### Standing of the Shoulders of Giants\n",
    "- [spaCy](https://spacy.io/usage/spacy-101): do Natural Language Processing (NLP)\n",
    "- [textaCy](https://chartbeat-labs.github.io/textacy/build/html/index.html): do more NLP, extends spaCy\n",
    "- [scattertext](https://github.com/JasonKessler/scattertext): visualize differences across corpora\n",
    "- [pandas](https://pandas.pydata.org/docs/getting_started/intro_tutorials/index.html): analyze tabular data \n",
    "- [plotnine](https://plotnine.readthedocs.io/en/stable/): visualize anything (ggplot for Python)"
   ]
  },
  {
   "cell_type": "markdown",
   "metadata": {
    "slideshow": {
     "slide_type": "subslide"
    }
   },
   "source": [
    "# Importing Modules\n",
    "\n",
    "various ways of importing"
   ]
  },
  {
   "cell_type": "code",
   "execution_count": 2,
   "metadata": {
    "slideshow": {
     "slide_type": "-"
    }
   },
   "outputs": [],
   "source": [
    "# standard import\n",
    "import textacy\n",
    "import spacy\n",
    "\n",
    "# import with shortname\n",
    "import scattertext as st \n",
    "import pandas as pd\n",
    "\n",
    "# import all specific/all objects from a module\n",
    "from pathlib import Path\n",
    "from plotnine import *\n",
    "import textacy.vsm"
   ]
  },
  {
   "cell_type": "markdown",
   "metadata": {
    "slideshow": {
     "slide_type": "slide"
    }
   },
   "source": [
    "# Basic NLP"
   ]
  },
  {
   "cell_type": "code",
   "execution_count": 3,
   "metadata": {
    "slideshow": {
     "slide_type": "-"
    }
   },
   "outputs": [
    {
     "name": "stdout",
     "output_type": "stream",
     "text": [
      "Apple Apple PROPN NNP nsubj Xxxxx True False\n",
      "is be AUX VBZ aux xx True True\n",
      "looking look VERB VBG ROOT xxxx True False\n",
      "at at ADP IN prep xx True True\n",
      "buying buy VERB VBG pcomp xxxx True False\n",
      "U.K. U.K. PROPN NNP compound X.X. False False\n",
      "startup startup NOUN NN dobj xxxx True False\n",
      "for for ADP IN prep xxx True True\n",
      "$ $ SYM $ quantmod $ False False\n",
      "1 1 NUM CD compound d False False\n",
      "billion billion NUM CD pobj xxxx True False\n"
     ]
    }
   ],
   "source": [
    "# define text directly (to read a file see below)\n",
    "text = \"Apple is looking at buying U.K. startup for $1 billion\"\n",
    "\n",
    "# load a language specific model\n",
    "en = textacy.load_spacy_lang(\"en_core_web_sm\")\n",
    "\n",
    "# analyze document (tokenizing, tagging, parsing)\n",
    "doc = textacy.make_spacy_doc(text, lang=en)\n",
    "\n",
    "# iterate over tokens per document\n",
    "for token in doc:\n",
    "    print(token.text, token.lemma_, token.pos_, token.tag_,\n",
    "            token.dep_, token.shape_, token.is_alpha, token.is_stop)"
   ]
  },
  {
   "cell_type": "code",
   "execution_count": 24,
   "metadata": {
    "slideshow": {
     "slide_type": "-"
    }
   },
   "outputs": [
    {
     "name": "stdout",
     "output_type": "stream",
     "text": [
      "Programm der Sozialdemokratischen Partei der\n",
      "Schweiz\n",
      "(Angenommen durch den Parteitag vom 10./12. Dezember 1920 in Bern.)\n",
      "\n",
      "Prinzipienerklärung.\n",
      "Das Endziel der Sozialdemokratie bildet eine Gesellschaft\n"
     ]
    }
   ],
   "source": [
    "# alternatively, read from a single txt file \n",
    "f_text = '../materials/swiss_party_programmes/txt/sp_programmes/1920_parteiprogramm_d.txt'\n",
    "text = textacy.io.read_text(f_text)\n",
    "\n",
    "# show content\n",
    "# special generator syntax as text is read just-in-time (streaming)\n",
    "print(next(text)[:200])"
   ]
  },
  {
   "cell_type": "markdown",
   "metadata": {
    "slideshow": {
     "slide_type": "slide"
    }
   },
   "source": [
    "# Working with a Corpus"
   ]
  },
  {
   "cell_type": "markdown",
   "metadata": {
    "slideshow": {
     "slide_type": "subslide"
    }
   },
   "source": [
    "# Create a Corpus I\n",
    "\n",
    "How to make a collection of texts?\n",
    "\n",
    "1. index files\n",
    "2. read file content\n",
    "3. parse metadata from file name\n",
    "4. return each document sequentially\n",
    "\n",
    "&rarr; wrap all this in a function `get_texts()`"
   ]
  },
  {
   "cell_type": "code",
   "execution_count": 5,
   "metadata": {
    "slideshow": {
     "slide_type": "subslide"
    }
   },
   "outputs": [],
   "source": [
    "def get_texts(dir_texts):\n",
    "    \"\"\"\n",
    "    Sequentially stream all documents from a given folder,\n",
    "    including metadata.\n",
    "    \"\"\"\n",
    "    p = Path(dir_texts) # set base dir\n",
    "    \n",
    "    # iterate over all documents\n",
    "    for fname in p.glob('**/*.txt'):\n",
    "        \n",
    "        print('Parsing file:', fname.name)\n",
    "        \n",
    "        content = next(textacy.io.text.read_text(fname))\n",
    "        # join lines as there are hard line-breaks\n",
    "        content = content.replace('\\n', ' ')\n",
    "        # further modify the text content here if needed\n",
    "\n",
    "        # parse year from filename and set a metadata\n",
    "        # example: 1920_parteiprogramm_d.txt --> year=1920\n",
    "        try:\n",
    "            year = int(fname.name.split('_')[0])\n",
    "        except ValueError:\n",
    "            print('WARNING: Parsing meta data failed:',\n",
    "                  fname.name)\n",
    "            continue\n",
    "\n",
    "        # add more metadata here if needed\n",
    "        metadata = {'fname': fname.name, 'year': year}\n",
    "        \n",
    "        # return documents one after another (sequentially)\n",
    "        yield (content, metadata)"
   ]
  },
  {
   "cell_type": "markdown",
   "metadata": {
    "slideshow": {
     "slide_type": "subslide"
    }
   },
   "source": [
    "# Create a Corpus II\n"
   ]
  },
  {
   "cell_type": "code",
   "execution_count": 6,
   "metadata": {
    "slideshow": {
     "slide_type": "-"
    }
   },
   "outputs": [
    {
     "name": "stdout",
     "output_type": "stream",
     "text": [
      "Parsing file: 1920_parteiprogramm_d.txt\n",
      "Parsing file: 1982_parteiprogramm_d_0.txt\n",
      "Parsing file: 1888_parteiprogramm_d_0.txt\n",
      "Parsing file: sp-parteiprogramm_definitiv-de_0.txt\n",
      "WARNING: Parsing meta data failed: sp-parteiprogramm_definitiv-de_0.txt\n",
      "Parsing file: 1904_parteiprogramm_d_0.txt\n",
      "Parsing file: 1959_parteiprogramm_d_0.txt\n",
      "Parsing file: 1870_parteiprogramm_d_0.txt\n",
      "Parsing file: 1935_parteiprogramm_d_0.txt\n"
     ]
    }
   ],
   "source": [
    "# stream texts from a given folder\n",
    "dir_texts = '../materials/swiss_party_programmes/txt/sp_programmes/'\n",
    "texts = get_texts(dir_texts)\n",
    "\n",
    "# load German language model\n",
    "de = textacy.load_spacy_lang(\"de_core_news_sm\")\n",
    "\n",
    "# create corpus from processed documents\n",
    "corpus = textacy.Corpus(de, data=texts)"
   ]
  },
  {
   "cell_type": "markdown",
   "metadata": {
    "slideshow": {
     "slide_type": "subslide"
    }
   },
   "source": [
    "# Basic Corpus Statistics"
   ]
  },
  {
   "cell_type": "code",
   "execution_count": 7,
   "metadata": {
    "slideshow": {
     "slide_type": "-"
    }
   },
   "outputs": [
    {
     "name": "stdout",
     "output_type": "stream",
     "text": [
      "# documents: 7\n",
      "# sentences: 3359\n",
      "# tokens: 45598\n"
     ]
    }
   ],
   "source": [
    "print('# documents:', corpus.n_docs)\n",
    "print('# sentences:', corpus.n_sents)\n",
    "print('# tokens:', corpus.n_tokens)"
   ]
  },
  {
   "cell_type": "markdown",
   "metadata": {
    "slideshow": {
     "slide_type": "subslide"
    }
   },
   "source": [
    "# Export Word Counts"
   ]
  },
  {
   "cell_type": "code",
   "execution_count": 8,
   "metadata": {
    "slideshow": {
     "slide_type": "-"
    }
   },
   "outputs": [
    {
     "data": {
      "text/plain": [
       "[('menschen', 112),\n",
       " ('partei', 101),\n",
       " ('demokratie', 94),\n",
       " ('entwicklung', 92),\n",
       " ('staat', 92)]"
      ]
     },
     "execution_count": 8,
     "metadata": {},
     "output_type": "execute_result"
    }
   ],
   "source": [
    "# get lowercased and filtered corpus vocabulary\n",
    "vocab = corpus.word_counts(as_strings=True, normalize= 'lower', filter_stops = True, filter_punct = True, filter_nums = True)\n",
    "\n",
    "# sort vocabulary by descending frequency\n",
    "vocab_sorted = sorted(vocab.items(), key=lambda x: x[1], reverse=True)\n",
    "\n",
    "# write to file, one word and its frequency per line\n",
    "fname = '../analysis/vocab_frq.txt'\n",
    "with open(fname, 'w') as f:   \n",
    "    for word, frq in vocab_sorted:\n",
    "        line = f\"{word}\\t{frq}\\n\"\n",
    "        f.write(line)\n",
    "\n",
    "vocab_sorted[:5]"
   ]
  },
  {
   "cell_type": "markdown",
   "metadata": {
    "slideshow": {
     "slide_type": "subslide"
    }
   },
   "source": [
    "# Working with Subcorpus\n",
    "\n",
    "Interested in a group of documents only?"
   ]
  },
  {
   "cell_type": "code",
   "execution_count": 9,
   "metadata": {
    "slideshow": {
     "slide_type": "-"
    }
   },
   "outputs": [
    {
     "data": {
      "text/plain": [
       "(5, 7)"
      ]
     },
     "execution_count": 9,
     "metadata": {},
     "output_type": "execute_result"
    }
   ],
   "source": [
    "# function to filter by metadata, e.g. publication year after 1900\n",
    "filter_func = lambda doc: doc._.meta .get(\"year\") > 1900\n",
    "\n",
    "# create new corpus after applying filter function\n",
    "subcorpus = textacy.corpus.Corpus(de, data=corpus.get(filter_func))\n",
    "\n",
    "subcorpus.n_docs, corpus.n_docs"
   ]
  },
  {
   "cell_type": "code",
   "execution_count": 10,
   "metadata": {
    "slideshow": {
     "slide_type": "fragment"
    }
   },
   "outputs": [
    {
     "data": {
      "text/plain": [
       "{'fname': '1920_parteiprogramm_d.txt', 'year': 1920}"
      ]
     },
     "execution_count": 10,
     "metadata": {},
     "output_type": "execute_result"
    }
   ],
   "source": [
    "# select the first document in corpus\n",
    "first_doc = corpus[0]\n",
    "first_doc._.meta"
   ]
  },
  {
   "cell_type": "markdown",
   "metadata": {
    "slideshow": {
     "slide_type": "slide"
    }
   },
   "source": [
    "# Key Word in Context (KWIC)\n",
    "\n",
    "show words in their original context"
   ]
  },
  {
   "cell_type": "code",
   "execution_count": 11,
   "metadata": {},
   "outputs": [
    {
     "name": "stdout",
     "output_type": "stream",
     "text": [
      "wärts beziehen und für seine Industrieprodukte im  Ausland  Absatz suchen muss, deshalb von allen Schwankunge\n",
      " Unterstützung von in Not geratenen Schweizern im  Ausland . Unterstützung und Förderung aller Bestrebungen, \n",
      "eaktion, weil die Schweiz in mancher Hinsicht vom  Ausland  abhängig und weltweiten Zwängen ausgesetzt ist. U\n",
      "eren multinational. Produktionsstätten werden ins  Ausland  verlagert und einheimische Betriebe von multinati\n",
      "chränkungen. Die Schweiz ist nicht nur selbst vom  Ausland  abhängig, sie schafft auch Abhängigkeiten. Wie an\n",
      "ine Beschränkung der Futtermittel-lmporte aus dem  Ausland .  39  (26) Landwirtschaftspolitik  ❑ Die Einkomme\n",
      "piel einer wirksamen Massnahme. 2. Das Risiko der  Ausland abhängigkeit der Energieversorgung soll reduziert \n",
      " der Radioaktivität eine untragbare Hypothek, die  Ausland abhängigkeit (Uran) enorm und die Sicherheit (Unfa\n",
      "te und landwirtschaftlichen Erzeugnisse Absatz im  Ausland e suchen muss und deshalb von allen Schwankungen u\n",
      "Interesse stabiler Wirtschaftsbeziehungen mit dem  Ausland  sind feste Wechselkurse erwünscht; doch darf das \n",
      "haft ist so zu regeln, dass die zur Ergänzung der  Inland produktion notwendige Einfuhr nicht verteuert wird\n",
      "und wichtigen landwirtschaftlichen Erzeugnisse im  Ausland  Absatz suchen. Aus diesem Grunde wird die schweiz\n",
      "egung hat durch die Entwicklung des Faschismus im  Ausland  ihren Auftrieb erhalten. Durch das Aufkommen des \n",
      "ndere die Steigerung des Exportes, der Ausbau der  Inland industrie, die Entschuldung der Landwirtschaft sow\n",
      "iche Führung des gesamten Kapitalverkehrs mit dem  Ausland  unter Eingliederung des Kapitalexportes in die st\n",
      "häfte;  c)  Verbot der selbständigen Tätigung des  Ausland geschäftes;  d)  Schaffung eines Überwachungs- und\n",
      "nrechnung;  d)  einheitliche Verkaufstätigkeit im  Ausland ;  e)  Schaffung technisch-wissenschaftlicher Fors\n",
      " wird der Absatz landwirtschaftlicher Produkte im  Inland  erhöht. Die Aussenhandelspolitik und der Kapitale\n",
      "tsetzung der Preise und die Propaganda im In- und  Ausland e.  VIII. Schutz der Arbeit. Zur Sicherung der Leb\n",
      "Sicherheit der schweizerischen Kapitalguthaben im  Ausland  es erfordern. Nach Anerkennung der Union der Sozi\n"
     ]
    }
   ],
   "source": [
    "# iterate over documents and print matches\n",
    "# you can use regular expressions as keyword\n",
    "for doc in corpus:\n",
    "    results = textacy.text_utils.keyword_in_context(doc.text, keyword = '(Ausland|Inland)', ignore_case = True, window_width = 50, print_only = True)\n",
    "    for match in results:\n",
    "        print(doc.text)"
   ]
  },
  {
   "cell_type": "markdown",
   "metadata": {
    "slideshow": {
     "slide_type": "slide"
    }
   },
   "source": [
    "# Export Results to File\n",
    "\n",
    "collect any information and write to file"
   ]
  },
  {
   "cell_type": "code",
   "execution_count": 12,
   "metadata": {
    "slideshow": {
     "slide_type": "-"
    }
   },
   "outputs": [
    {
     "name": "stdout",
     "output_type": "stream",
     "text": [
      "Die sozialistische Gesellschaft wird sich bestreben, durch die Befriedigung der Bedürfnisse aller Arbeitenden und durch die Fürsorge für alle Arbeitsunfähigen Armut und Not, Verbrechen und Prostitution, die in den Zuständen des Kapitalismus ihren Nährboden fanden, als gesellschaftliche Erscheinung zum Verschwinden zu bringen.\t1935_parteiprogramm_d_0.txt\n"
     ]
    }
   ],
   "source": [
    "results = []\n",
    "\n",
    "for doc in corpus:\n",
    "    for sent in doc.sents:\n",
    "        if 'Armut' in sent.text:\n",
    "            # match starts with the sentence, followed by the filename (tab-separated)\n",
    "            match = f\"{sent.text}\\t{doc._.meta['fname']}\"\n",
    "            results.append(match)\n",
    "\n",
    "fname = '../analysis/sents_poverty.txt'\n",
    "with open(fname, 'w') as f:\n",
    "    f.write('\\n'.join(results))\n",
    "\n",
    "print(match)"
   ]
  },
  {
   "cell_type": "markdown",
   "metadata": {
    "slideshow": {
     "slide_type": "slide"
    }
   },
   "source": [
    "# Export Corpus"
   ]
  },
  {
   "cell_type": "code",
   "execution_count": 13,
   "metadata": {
    "slideshow": {
     "slide_type": "subslide"
    }
   },
   "outputs": [],
   "source": [
    "# pretty complex syntax to\n",
    "# merge metadata and actual content for each document in the corpus\n",
    "data = [{**doc._.meta, **{'text': doc.text}} for doc in corpus]\n",
    "\n",
    "# export corpus as csv\n",
    "f_csv = '../analysis/corpus_party_programmes.csv'\n",
    "textacy.io.csv.write_csv(data, f_csv, fieldnames=data[0].keys())"
   ]
  },
  {
   "cell_type": "markdown",
   "metadata": {
    "slideshow": {
     "slide_type": "slide"
    }
   },
   "source": [
    "# Explore Corpus interactively\n",
    "\n",
    "![Example Scattertext](../analysis/viz_party_differences.png)"
   ]
  },
  {
   "cell_type": "markdown",
   "metadata": {
    "slideshow": {
     "slide_type": "subslide"
    }
   },
   "source": [
    "# Scattertext\n",
    "\n",
    "- divide into subcorpus + rest by\n",
    "    - organization, person, gender, time etc.\n",
    "- find discriminative terms\n",
    "    - *unigrams* + *bigrams*\n",
    "- interactive exploring\n",
    "- scoring function *rank-frequency*\n",
    "    - normalized by number of terms [0,1]"
   ]
  },
  {
   "cell_type": "markdown",
   "metadata": {
    "slideshow": {
     "slide_type": "subslide"
    }
   },
   "source": [
    "# Load CSV File\n",
    "\n",
    "load a dataset of 1 August speeches by Swiss federal councillors"
   ]
  },
  {
   "cell_type": "code",
   "execution_count": 14,
   "metadata": {
    "slideshow": {
     "slide_type": "subslide"
    }
   },
   "outputs": [
    {
     "data": {
      "text/html": [
       "<div>\n",
       "<style scoped>\n",
       "    .dataframe tbody tr th:only-of-type {\n",
       "        vertical-align: middle;\n",
       "    }\n",
       "\n",
       "    .dataframe tbody tr th {\n",
       "        vertical-align: top;\n",
       "    }\n",
       "\n",
       "    .dataframe thead th {\n",
       "        text-align: right;\n",
       "    }\n",
       "</style>\n",
       "<table border=\"1\" class=\"dataframe\">\n",
       "  <thead>\n",
       "    <tr style=\"text-align: right;\">\n",
       "      <th></th>\n",
       "      <th>Jahr</th>\n",
       "      <th>Status</th>\n",
       "      <th>Vollständigkeit</th>\n",
       "      <th>Redner</th>\n",
       "      <th>Geschlecht</th>\n",
       "      <th>Funktion</th>\n",
       "      <th>Partei</th>\n",
       "      <th>Partei-Original</th>\n",
       "      <th>Typ</th>\n",
       "      <th>Bemerkung</th>\n",
       "      <th>Sprache</th>\n",
       "      <th>Originalsprache</th>\n",
       "      <th>Ort</th>\n",
       "      <th>Titel</th>\n",
       "      <th>Anrede</th>\n",
       "      <th>Text</th>\n",
       "      <th>Originaltext</th>\n",
       "      <th>Quelle</th>\n",
       "      <th>descripton</th>\n",
       "    </tr>\n",
       "  </thead>\n",
       "  <tbody>\n",
       "    <tr>\n",
       "      <th>0</th>\n",
       "      <td>2018</td>\n",
       "      <td>done</td>\n",
       "      <td>vollständig</td>\n",
       "      <td>Alain Berset</td>\n",
       "      <td>m</td>\n",
       "      <td>BP</td>\n",
       "      <td>SP</td>\n",
       "      <td>SP</td>\n",
       "      <td>BP-Rede</td>\n",
       "      <td>NaN</td>\n",
       "      <td>de</td>\n",
       "      <td>NaN</td>\n",
       "      <td>NaN</td>\n",
       "      <td>NaN</td>\n",
       "      <td>Sehr geehrte Damen und Herren</td>\n",
       "      <td>Wir leben in der Schweiz in Frieden und Wohlst...</td>\n",
       "      <td>NaN</td>\n",
       "      <td>https://www.admin.ch/gov/de/start/dokumentatio...</td>\n",
       "      <td>Alain Berset, SP, 2018</td>\n",
       "    </tr>\n",
       "    <tr>\n",
       "      <th>3</th>\n",
       "      <td>2018</td>\n",
       "      <td>done</td>\n",
       "      <td>vollständig</td>\n",
       "      <td>Doris Leuthard</td>\n",
       "      <td>f</td>\n",
       "      <td>BR</td>\n",
       "      <td>CVP</td>\n",
       "      <td>CVP</td>\n",
       "      <td>Lokal</td>\n",
       "      <td>NaN</td>\n",
       "      <td>de</td>\n",
       "      <td>NaN</td>\n",
       "      <td>Villmergen</td>\n",
       "      <td>NaN</td>\n",
       "      <td>Liebe Mitbürgerinnen und Mitbürger</td>\n",
       "      <td>Ich bedanke mich für die Einladung zu Ihrer 1....</td>\n",
       "      <td>NaN</td>\n",
       "      <td>https://www.admin.ch/gov/de/start/dokumentatio...</td>\n",
       "      <td>Doris Leuthard, CVP, 2018</td>\n",
       "    </tr>\n",
       "    <tr>\n",
       "      <th>4</th>\n",
       "      <td>2018</td>\n",
       "      <td>done</td>\n",
       "      <td>vollständig</td>\n",
       "      <td>Guy Parmelin</td>\n",
       "      <td>m</td>\n",
       "      <td>BR</td>\n",
       "      <td>SVP</td>\n",
       "      <td>SVP</td>\n",
       "      <td>Lokal</td>\n",
       "      <td>NaN</td>\n",
       "      <td>de</td>\n",
       "      <td>NaN</td>\n",
       "      <td>NaN</td>\n",
       "      <td>«Armbrust und Hellebarde»</td>\n",
       "      <td>Sehr geehrte Eidgenossen, Meine Damen und Herren</td>\n",
       "      <td>Eine 1.-August-Rede ist eine der heikelsten rh...</td>\n",
       "      <td>NaN</td>\n",
       "      <td>https://www.admin.ch/gov/de/start/dokumentatio...</td>\n",
       "      <td>Guy Parmelin, SVP, 2018</td>\n",
       "    </tr>\n",
       "    <tr>\n",
       "      <th>5</th>\n",
       "      <td>2018</td>\n",
       "      <td>done</td>\n",
       "      <td>vollständig</td>\n",
       "      <td>Ignazio Cassis</td>\n",
       "      <td>m</td>\n",
       "      <td>BR</td>\n",
       "      <td>FDP</td>\n",
       "      <td>FDP</td>\n",
       "      <td>Lokal</td>\n",
       "      <td>NaN</td>\n",
       "      <td>de</td>\n",
       "      <td>NaN</td>\n",
       "      <td>Rorschach</td>\n",
       "      <td>Die Italianità hat ihre Wurzeln in Rorschach</td>\n",
       "      <td>Gueten Obig mitenand!</td>\n",
       "      <td>Und danke für diese freundliche Einladung!\\nIc...</td>\n",
       "      <td>NaN</td>\n",
       "      <td>https://www.admin.ch/gov/de/start/dokumentatio...</td>\n",
       "      <td>Ignazio Cassis, FDP, 2018</td>\n",
       "    </tr>\n",
       "    <tr>\n",
       "      <th>6</th>\n",
       "      <td>2018</td>\n",
       "      <td>done</td>\n",
       "      <td>vollständig</td>\n",
       "      <td>Simonetta Sommaruga</td>\n",
       "      <td>f</td>\n",
       "      <td>BR</td>\n",
       "      <td>SP</td>\n",
       "      <td>SP</td>\n",
       "      <td>Lokal</td>\n",
       "      <td>NaN</td>\n",
       "      <td>de</td>\n",
       "      <td>NaN</td>\n",
       "      <td>Muttenz</td>\n",
       "      <td>Heimat kennt keine Grenzen</td>\n",
       "      <td>Liebe Festgemeinde,\\nSehr geehrter Herr Regier...</td>\n",
       "      <td>Als ich die Einladung zu dieser Bundesfeier ge...</td>\n",
       "      <td>NaN</td>\n",
       "      <td>https://www.ejpd.admin.ch/ejpd/de/home/aktuell...</td>\n",
       "      <td>Simonetta Sommaruga, SP, 2018</td>\n",
       "    </tr>\n",
       "  </tbody>\n",
       "</table>\n",
       "</div>"
      ],
      "text/plain": [
       "   Jahr Status Vollständigkeit               Redner Geschlecht Funktion  \\\n",
       "0  2018   done     vollständig         Alain Berset          m       BP   \n",
       "3  2018   done     vollständig       Doris Leuthard          f       BR   \n",
       "4  2018   done     vollständig         Guy Parmelin          m       BR   \n",
       "5  2018   done     vollständig       Ignazio Cassis          m       BR   \n",
       "6  2018   done     vollständig  Simonetta Sommaruga          f       BR   \n",
       "\n",
       "  Partei Partei-Original      Typ Bemerkung Sprache Originalsprache  \\\n",
       "0     SP              SP  BP-Rede       NaN      de             NaN   \n",
       "3    CVP             CVP    Lokal       NaN      de             NaN   \n",
       "4    SVP             SVP    Lokal       NaN      de             NaN   \n",
       "5    FDP             FDP    Lokal       NaN      de             NaN   \n",
       "6     SP              SP    Lokal       NaN      de             NaN   \n",
       "\n",
       "          Ort                                         Titel  \\\n",
       "0         NaN                                           NaN   \n",
       "3  Villmergen                                           NaN   \n",
       "4         NaN                     «Armbrust und Hellebarde»   \n",
       "5   Rorschach  Die Italianità hat ihre Wurzeln in Rorschach   \n",
       "6     Muttenz                    Heimat kennt keine Grenzen   \n",
       "\n",
       "                                              Anrede  \\\n",
       "0                      Sehr geehrte Damen und Herren   \n",
       "3                 Liebe Mitbürgerinnen und Mitbürger   \n",
       "4   Sehr geehrte Eidgenossen, Meine Damen und Herren   \n",
       "5                              Gueten Obig mitenand!   \n",
       "6  Liebe Festgemeinde,\\nSehr geehrter Herr Regier...   \n",
       "\n",
       "                                                Text Originaltext  \\\n",
       "0  Wir leben in der Schweiz in Frieden und Wohlst...          NaN   \n",
       "3  Ich bedanke mich für die Einladung zu Ihrer 1....          NaN   \n",
       "4  Eine 1.-August-Rede ist eine der heikelsten rh...          NaN   \n",
       "5  Und danke für diese freundliche Einladung!\\nIc...          NaN   \n",
       "6  Als ich die Einladung zu dieser Bundesfeier ge...          NaN   \n",
       "\n",
       "                                              Quelle  \\\n",
       "0  https://www.admin.ch/gov/de/start/dokumentatio...   \n",
       "3  https://www.admin.ch/gov/de/start/dokumentatio...   \n",
       "4  https://www.admin.ch/gov/de/start/dokumentatio...   \n",
       "5  https://www.admin.ch/gov/de/start/dokumentatio...   \n",
       "6  https://www.ejpd.admin.ch/ejpd/de/home/aktuell...   \n",
       "\n",
       "                      descripton  \n",
       "0         Alain Berset, SP, 2018  \n",
       "3      Doris Leuthard, CVP, 2018  \n",
       "4        Guy Parmelin, SVP, 2018  \n",
       "5      Ignazio Cassis, FDP, 2018  \n",
       "6  Simonetta Sommaruga, SP, 2018  "
      ]
     },
     "execution_count": 14,
     "metadata": {},
     "output_type": "execute_result"
    }
   ],
   "source": [
    "# read dataset from csv file\n",
    "f_csv = '../materials/dataset_speeches_federal_council_2019.csv'\n",
    "df = pd.read_csv(f_csv)\n",
    "\n",
    "# filter out non-german texts or very short texts\n",
    "df_sub = df[(df['Sprache'] == 'de') & (df['Text'].str.len() > 10)]\n",
    "\n",
    "# make new column containing all relevant metadata (to show in plot)\n",
    "df_sub['descripton'] = df_sub[['Redner', 'Partei', 'Jahr']].astype(str).agg(', '.join, axis=1)\n",
    "\n",
    "# sneak peek of dataset\n",
    "df_sub.head()"
   ]
  },
  {
   "cell_type": "code",
   "execution_count": 15,
   "metadata": {
    "slideshow": {
     "slide_type": "subslide"
    }
   },
   "outputs": [
    {
     "data": {
      "text/plain": [
       "2458706"
      ]
     },
     "execution_count": 15,
     "metadata": {},
     "output_type": "execute_result"
    }
   ],
   "source": [
    "# tags to ignore in corpus, e.g. numbers\n",
    "censor_tags = set(['CARD'])\n",
    "\n",
    "# stop words to ignore in corpus\n",
    "de_stopwords = spacy.lang.de.stop_words.STOP_WORDS # default stop words\n",
    "custom_stopwords = set(['[', ']', '3.'])\n",
    "de_stopwords = de_stopwords.union(custom_stopwords)\n",
    "\n",
    "# create corpus from dataframe\n",
    "# lowercased terms, no stopwords, no numbers\n",
    "# use lemmas for English only, German quality is too bad\n",
    "corpus_speeches = st.CorpusFromPandas(df_sub,\n",
    "                             category_col='Partei',\n",
    "                             text_col='Text',\n",
    "                             nlp=de, # German model\n",
    "                             feats_from_spacy_doc=st.FeatsFromSpacyDoc(tag_types_to_censor=censor_tags, use_lemmas=False),\n",
    "                             ).build().get_stoplisted_unigram_corpus(de_stopwords)\n",
    "\n",
    "# produce visualization (interactive html)\n",
    "html = st.produce_scattertext_explorer(corpus_speeches,\n",
    "            category='SP', # set attribute to divide corpus into two parts\n",
    "            category_name='SP',\n",
    "            not_category_name='other parties',\n",
    "            metadata=df_sub['descripton'],\n",
    "            width_in_pixels=1000,\n",
    "            minimum_term_frequency=5, # drop terms occurring less than 5 times\n",
    "            save_svg_button=True,                          \n",
    ")\n",
    "\n",
    "# write visualization to html file\n",
    "fname = \"../analysis/viz_party_differences.html\"\n",
    "open(fname, 'wb').write(html.encode('utf-8'))"
   ]
  },
  {
   "cell_type": "markdown",
   "metadata": {
    "slideshow": {
     "slide_type": "slide"
    }
   },
   "source": [
    "# Plot Term Frequencies over Time\n",
    "\n",
    "![Example](../analysis/rel_term_frq_nation.png)"
   ]
  },
  {
   "cell_type": "markdown",
   "metadata": {
    "slideshow": {
     "slide_type": "subslide"
    }
   },
   "source": [
    "# Create Corpus III\n",
    "\n",
    "define new function to read from csv `get_texts_from_csv`"
   ]
  },
  {
   "cell_type": "code",
   "execution_count": 16,
   "metadata": {
    "slideshow": {
     "slide_type": "-"
    }
   },
   "outputs": [],
   "source": [
    "def get_texts_from_csv(f_csv, text_column):\n",
    "    \"\"\"\n",
    "    Read dataset from a csv file and sequentially stream the rows,\n",
    "    including metadata.\n",
    "    \"\"\"\n",
    "    \n",
    "    # read dataframe\n",
    "    df = pd.read_csv(f_csv)\n",
    "    \n",
    "    # keep only documents that have text\n",
    "    filtered_df = df[df[text_column].notnull()]\n",
    "    \n",
    "    # iterate over rows in dataframe\n",
    "    for idx, row in filtered_df.iterrows():\n",
    "        \n",
    "        # read text and join lines (hard line-breaks)\n",
    "        text = row[text_column].replace('\\n', ' ')\n",
    "\n",
    "        # use all columns as metadata, except the column with the actual text\n",
    "        metadata = row.to_dict()\n",
    "        del metadata[text_column]\n",
    "\n",
    "        yield (text, metadata)\n",
    "\n",
    "\n",
    "f_csv = '../materials/dataset_speeches_federal_council_2019.csv'\n",
    "texts = get_texts_from_csv(f_csv, text_column='Text')\n",
    "\n",
    "corpus_speeches = textacy.Corpus(de, data=texts)"
   ]
  },
  {
   "cell_type": "code",
   "execution_count": 17,
   "metadata": {
    "slideshow": {
     "slide_type": "subslide"
    }
   },
   "outputs": [],
   "source": [
    "# pretty complex syntax to stream speeches per group\n",
    "# define the kind of term information: lowercased, unigram, no stop words\n",
    "tokenized_docs, groups = textacy.io.unzip(\n",
    "        (doc._.to_terms_list(normalize='lower', ngrams=1, entities=False, as_strings=True, filter_stops=False),\n",
    "         doc._.meta[\"Jahr\"])\n",
    "        for doc in corpus_speeches)\n",
    "\n",
    "# define type of freqency, here relative term frequency\n",
    "vectorizer = textacy.vsm.GroupVectorizer(\n",
    "        tf_type='linear', # absolute term frequency\n",
    "        apply_dl=True, # normalized by document length\n",
    "        dl_type=\"linear\",\n",
    "        vocabulary_grps=range(1950, 2019)) # only years from 1950 to 2019\n",
    "\n",
    "# produce group-term-matrix with with frequency counts\n",
    "grp_term_matrix = vectorizer.fit_transform(tokenized_docs, groups)\n",
    "\n",
    "# create dataframe from matrix\n",
    "df_terms = pd.DataFrame.sparse.from_spmatrix(grp_term_matrix, index=vectorizer.grps_list, columns=vectorizer.terms_list)\n",
    "df_terms['year'] = df_terms.index.values\n",
    "\n",
    "# change shape of dataframe\n",
    "df_tidy = df_terms.melt(id_vars='year', var_name=\"term\",\n",
    "        value_name=\"frequency\")\n",
    "\n",
    "# filter the dataset for the following terms\n",
    "terms = [\"volk\", \"schweiz\", \"nation\"]\n",
    "df_terms = df_tidy[df_tidy['term'].isin(terms)]\n",
    "\n",
    "# plot the relative frequency for the terms above\n",
    "p = (ggplot(df_terms, aes(x='year', y='frequency', color='term'))\n",
    " + geom_point() # show individual points\n",
    " + stat_smooth(method='loess', span=0.2, se=False) # overlay points with a smoothed line\n",
    " + theme_classic()) # make the plot look nicer"
   ]
  },
  {
   "cell_type": "code",
   "execution_count": 18,
   "metadata": {
    "slideshow": {
     "slide_type": "subslide"
    }
   },
   "outputs": [
    {
     "data": {
      "image/png": "[encoded data removed]",
      "text/plain": [
       "<Figure size 640x480 with 1 Axes>"
      ]
     },
     "metadata": {},
     "output_type": "display_data"
    },
    {
     "data": {
      "text/plain": [
       "<ggplot: (8759505651396)>"
      ]
     },
     "execution_count": 18,
     "metadata": {},
     "output_type": "execute_result"
    }
   ],
   "source": [
    "# check some other terms\n",
    "\n",
    "terms = [\"schweizer\", \"schweizerinnen\"]\n",
    "df_terms = df_tidy[df_tidy['term'].isin(terms)]\n",
    "\n",
    "(ggplot(df_terms, aes('year', 'frequency', color='term'))\n",
    " + geom_point(alpha=0.5, stroke = 0) # set transparency\n",
    " + stat_smooth(method='loess', span=0.2, se=False)\n",
    " + theme_classic())\n",
    "\n",
    "# save as png\n",
    "fname = '../analysis/rel_term_frq_gender.png'\n",
    "p.save(filename=fname, dpi=150, verbose = False)\n",
    "p"
   ]
  },
  {
   "cell_type": "code",
   "execution_count": 19,
   "metadata": {
    "slideshow": {
     "slide_type": "subslide"
    }
   },
   "outputs": [
    {
     "data": {
      "image/png": "[encoded data removed]",
      "text/plain": [
       "<Figure size 640x480 with 1 Axes>"
      ]
     },
     "metadata": {},
     "output_type": "display_data"
    },
    {
     "data": {
      "text/plain": [
       "<ggplot: (8759505659380)>"
      ]
     },
     "execution_count": 19,
     "metadata": {},
     "output_type": "execute_result"
    }
   ],
   "source": [
    "# check some other terms\n",
    "\n",
    "terms = [\"solidarität\", \"kultur\", \"werte\"]\n",
    "\n",
    "df_terms = df_tidy[df_tidy['term'].isin(terms)]\n",
    "\n",
    "(ggplot(df_terms, aes('year', 'frequency', color='term'))\n",
    " + geom_point(alpha=0.5, stroke = 0)\n",
    " + stat_smooth(method='loess', span=0.2, se=False)\n",
    " + theme_classic())"
   ]
  },
  {
   "cell_type": "markdown",
   "metadata": {
    "slideshow": {
     "slide_type": "slide"
    }
   },
   "source": [
    "# Number of Documents per Year"
   ]
  },
  {
   "cell_type": "code",
   "execution_count": 20,
   "metadata": {
    "slideshow": {
     "slide_type": "-"
    }
   },
   "outputs": [
    {
     "data": {
      "image/png": "[encoded data removed]",
      "text/plain": [
       "<Figure size 640x480 with 1 Axes>"
      ]
     },
     "metadata": {},
     "output_type": "display_data"
    },
    {
     "data": {
      "text/plain": [
       "<ggplot: (8759505612216)>"
      ]
     },
     "execution_count": 20,
     "metadata": {},
     "output_type": "execute_result"
    }
   ],
   "source": [
    "df = pd.read_csv(f_csv)\n",
    "docs_per_year = df.groupby('Jahr').agg({'Text': \"count\" }).reset_index().rename(columns={'Text':'count'})\n",
    "\n",
    "(ggplot(docs_per_year, aes(x='Jahr', y='count'))\n",
    " + geom_line(color='darkblue')\n",
    " +  labs(title = \"Number of Speeches per Year\", x = \"Year\", y = \"Count\")\n",
    " + theme_classic())"
   ]
  },
  {
   "cell_type": "markdown",
   "metadata": {
    "slideshow": {
     "slide_type": "slide"
    }
   },
   "source": [
    "# Outlook: NLP is on Fire 🔥\n",
    "\n",
    "\n",
    "- Named Entity Recognition (NER)\n",
    "  - *organizations, persons, locations, time etc.*\n",
    "- word embeddings\n",
    "  - *continious vectors instead of discrete symbols*\n",
    "- extract structured information\n",
    "  - *A does X to B*\n",
    "- train classifiers to predict"
   ]
  },
  {
   "cell_type": "markdown",
   "metadata": {
    "slideshow": {
     "slide_type": "slide"
    }
   },
   "source": [
    "\n",
    "# In-class: Exercises I\n",
    "\n",
    "1. Make sure that your local copy of the Github repository KED2020 is up-to-date with `git pull`. You can find the code of this notebook as python script: `scripts/KED2020_10.py` along with the used dataset in `materials/dataset_speeches_federal_council_2019.csv`.\n",
    "\n",
    "2. Open `scripts/KED2020_10.py` in Spyder.\n",
    "\n",
    "3. Play around with the code is a good way to learn. Modify one thing, run the code, and see if the output matches your expectations.\n",
    "\n",
    "4. Come up with your own terms for the KWIC and the frequency plot.\n",
    "\n",
    "5. Getting bored? Check out the documentation of the packages linked above.\n"
   ]
  },
  {
   "cell_type": "markdown",
   "metadata": {
    "slideshow": {
     "slide_type": "slide"
    }
   },
   "source": [
    "# Resources\n",
    "\n",
    "#### tutorials on spaCy\n",
    "\n",
    "- [Official spaCy 101](https://spacy.io/usage/spacy-101)\n",
    "\n",
    "- [Hitchhiker's Guide to NLP in spaCy](https://www.kaggle.com/nirant/hitchhiker-s-guide-to-nlp-in-spacy)"
   ]
  }
 ],
 "metadata": {
  "celltoolbar": "Slideshow",
  "kernelspec": {
   "display_name": "Python 3",
   "language": "python",
   "name": "python3"
  },
  "language_info": {
   "codemirror_mode": {
    "name": "ipython",
    "version": 3
   },
   "file_extension": ".py",
   "mimetype": "text/x-python",
   "name": "python",
   "nbconvert_exporter": "python",
   "pygments_lexer": "ipython3",
   "version": "3.8.2"
  },
  "rise": {
   "enable_chalkboard": true
  }
 },
 "nbformat": 4,
 "nbformat_minor": 2
}
